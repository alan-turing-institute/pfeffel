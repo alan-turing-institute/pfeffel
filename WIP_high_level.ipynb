{
 "cells": [
  {
   "cell_type": "code",
   "execution_count": 1,
   "id": "99dcb0b4",
   "metadata": {},
   "outputs": [],
   "source": [
    "import datetime\n",
    "\n",
    "import h3 # uber geo package\n",
    "import pandas as pd\n",
    "import seaborn as sns\n",
    "import numpy as np\n",
    "\n",
    "from tqdm.auto import tqdm"
   ]
  },
  {
   "cell_type": "code",
   "execution_count": 2,
   "id": "56525260",
   "metadata": {},
   "outputs": [],
   "source": [
    "sns.set_theme()\n",
    "tqdm.pandas()"
   ]
  },
  {
   "cell_type": "markdown",
   "id": "c6d7d84b",
   "metadata": {},
   "source": [
    "# load"
   ]
  },
  {
   "cell_type": "markdown",
   "id": "614eb6dd",
   "metadata": {},
   "source": [
    "load reference data for bike station locations"
   ]
  },
  {
   "cell_type": "code",
   "execution_count": null,
   "id": "8b0c774a",
   "metadata": {},
   "outputs": [],
   "source": [
    "# TODO update\n",
    "RAW = \"/Users/jbishop/Downloads/cleaned_data_20220612_1302.pickle\"\n",
    "\n",
    "LOCATION_REF = \"./data/stations_loc.json\""
   ]
  },
  {
   "cell_type": "code",
   "execution_count": 3,
   "id": "0adae3df",
   "metadata": {},
   "outputs": [],
   "source": [
    "station_locations_df = pd.read_json(LOCATION_REF).T"
   ]
  },
  {
   "cell_type": "markdown",
   "id": "790638ed",
   "metadata": {},
   "source": [
    "main data, load with dask"
   ]
  },
  {
   "cell_type": "code",
   "execution_count": 4,
   "id": "1a42cbef",
   "metadata": {},
   "outputs": [],
   "source": [
    "# load raw data\n",
    "df = pd.read_pickle(RAW)"
   ]
  },
  {
   "cell_type": "code",
   "execution_count": 5,
   "id": "a93c24c2",
   "metadata": {},
   "outputs": [
    {
     "data": {
      "text/plain": [
       "99448614"
      ]
     },
     "execution_count": 5,
     "metadata": {},
     "output_type": "execute_result"
    }
   ],
   "source": [
    "# num rows\n",
    "len(df)"
   ]
  },
  {
   "cell_type": "markdown",
   "id": "39e87c83",
   "metadata": {},
   "source": [
    "some cleaning of bad dates"
   ]
  },
  {
   "cell_type": "code",
   "execution_count": 6,
   "id": "2e3803c3",
   "metadata": {},
   "outputs": [],
   "source": [
    "EARLIEST_DATE = datetime.datetime(2010, 1, 1)"
   ]
  },
  {
   "cell_type": "code",
   "execution_count": 24,
   "id": "d233f818",
   "metadata": {},
   "outputs": [
    {
     "name": "stdout",
     "output_type": "stream",
     "text": [
      "CPU times: user 39 s, sys: 22.6 s, total: 1min 1s\n",
      "Wall time: 1min 5s\n"
     ]
    }
   ],
   "source": [
    "%%time\n",
    "# filter out of range dates\n",
    "df = df[df[\"start_date\"] > EARLIEST_DATE]\n",
    "# allow NA for end dates\n",
    "df = df[(df[\"end_date\"] > EARLIEST_DATE) | df[\"end_date\"].isna()]\n",
    "\n",
    "# also drop entries where start date before end date\n",
    "df = df[df[\"start_date\"] < df[\"end_date\"]]"
   ]
  },
  {
   "cell_type": "code",
   "execution_count": 25,
   "id": "f236dcb8",
   "metadata": {},
   "outputs": [],
   "source": [
    "# recalc duration\n",
    "df[\"duration\"] = df[\"end_date\"]  - df[\"start_date\"] "
   ]
  },
  {
   "cell_type": "markdown",
   "id": "15354201",
   "metadata": {},
   "source": [
    "# Basic stats"
   ]
  },
  {
   "cell_type": "code",
   "execution_count": 26,
   "id": "0c1c19a5",
   "metadata": {},
   "outputs": [
    {
     "name": "stdout",
     "output_type": "stream",
     "text": [
      "CPU times: user 6.55 s, sys: 920 ms, total: 7.47 s\n",
      "Wall time: 7.46 s\n"
     ]
    },
    {
     "data": {
      "text/plain": [
       "21149"
      ]
     },
     "execution_count": 26,
     "metadata": {},
     "output_type": "execute_result"
    }
   ],
   "source": [
    "%%time\n",
    "# how many bikes\n",
    "df[\"bike_id\"].nunique()"
   ]
  },
  {
   "cell_type": "code",
   "execution_count": 27,
   "id": "f3c33510",
   "metadata": {},
   "outputs": [],
   "source": [
    "bike_groups = df.groupby(\"bike_id\")"
   ]
  },
  {
   "cell_type": "code",
   "execution_count": 28,
   "id": "edbdb56f",
   "metadata": {},
   "outputs": [
    {
     "name": "stdout",
     "output_type": "stream",
     "text": [
      "\n",
      "bike with most trips: 8875\n",
      "did 10197 trips\n",
      "\n",
      "CPU times: user 35.2 s, sys: 559 ms, total: 35.7 s\n",
      "Wall time: 35.7 s\n"
     ]
    }
   ],
   "source": [
    "%%time\n",
    "# bike with the most trips\n",
    "group_counts = bike_groups.count()[\"filename\"] # pick abritrary column (without nulls) to get counts\n",
    "b_id = group_counts.idxmax()\n",
    "n_trips = group_counts.loc[b_id]\n",
    "\n",
    "print(f\"\"\"\n",
    "bike with most trips: {b_id}\n",
    "did {n_trips} trips\n",
    "\"\"\")"
   ]
  },
  {
   "cell_type": "code",
   "execution_count": 29,
   "id": "d6e28f05",
   "metadata": {},
   "outputs": [
    {
     "name": "stdout",
     "output_type": "stream",
     "text": [
      "\n",
      "bike with longest sum duration of trips: 2143\n",
      "total of 234 days 19:13:00 seconds\n",
      "\n",
      "CPU times: user 948 ms, sys: 192 ms, total: 1.14 s\n",
      "Wall time: 1.14 s\n"
     ]
    }
   ],
   "source": [
    "%%time\n",
    "# bike with the longest trips\n",
    "group_sums = bike_groups[\"duration\"].sum()\n",
    "b_id = group_sums.idxmax()\n",
    "d_sum = group_sums.loc[b_id]\n",
    "\n",
    "\n",
    "print(f\"\"\"\n",
    "bike with longest sum duration of trips: {b_id}\n",
    "total of {d_sum} seconds\n",
    "\"\"\")"
   ]
  },
  {
   "cell_type": "markdown",
   "id": "87b034e3",
   "metadata": {},
   "source": [
    "## Long-lived bikes"
   ]
  },
  {
   "cell_type": "code",
   "execution_count": 30,
   "id": "21206116",
   "metadata": {},
   "outputs": [
    {
     "name": "stdout",
     "output_type": "stream",
     "text": [
      "CPU times: user 3.53 s, sys: 31.7 ms, total: 3.56 s\n",
      "Wall time: 3.55 s\n"
     ]
    }
   ],
   "source": [
    "%%time\n",
    "trips_per_bike = bike_groups[\"filename\"].count()"
   ]
  },
  {
   "cell_type": "code",
   "execution_count": 51,
   "id": "ae120ae1",
   "metadata": {},
   "outputs": [
    {
     "name": "stdout",
     "output_type": "stream",
     "text": [
      "CPU times: user 398 ms, sys: 2.44 ms, total: 400 ms\n",
      "Wall time: 399 ms\n"
     ]
    }
   ],
   "source": [
    "%%time\n",
    "# relies on time ordering of df via rental_id\n",
    "bike_start = bike_groups[\"start_date\"].first()"
   ]
  },
  {
   "cell_type": "code",
   "execution_count": 52,
   "id": "7eab8fa0",
   "metadata": {},
   "outputs": [
    {
     "name": "stdout",
     "output_type": "stream",
     "text": [
      "CPU times: user 525 ms, sys: 1.4 ms, total: 526 ms\n",
      "Wall time: 525 ms\n"
     ]
    }
   ],
   "source": [
    "%%time\n",
    "# relies on time ordering of df via rental_id\n",
    "bike_end = bike_groups[\"end_date\"].last()"
   ]
  },
  {
   "cell_type": "code",
   "execution_count": 53,
   "id": "1d5fe1d7",
   "metadata": {},
   "outputs": [
    {
     "name": "stdout",
     "output_type": "stream",
     "text": [
      "CPU times: user 1.64 ms, sys: 2.01 ms, total: 3.65 ms\n",
      "Wall time: 2.7 ms\n"
     ]
    }
   ],
   "source": [
    "%%time \n",
    "bike_lifetime = bike_end - bike_start"
   ]
  },
  {
   "cell_type": "code",
   "execution_count": 54,
   "id": "bebc3ac1",
   "metadata": {},
   "outputs": [
    {
     "name": "stdout",
     "output_type": "stream",
     "text": [
      "CPU times: user 1.2 s, sys: 1.57 s, total: 2.77 s\n",
      "Wall time: 3.55 s\n"
     ]
    }
   ],
   "source": [
    "%%time\n",
    "duration_sums = bike_groups[\"duration\"].sum()"
   ]
  },
  {
   "cell_type": "code",
   "execution_count": 55,
   "id": "d0994c8f",
   "metadata": {},
   "outputs": [
    {
     "name": "stdout",
     "output_type": "stream",
     "text": [
      "CPU times: user 962 µs, sys: 879 µs, total: 1.84 ms\n",
      "Wall time: 1.59 ms\n"
     ]
    }
   ],
   "source": [
    "%%time\n",
    "bike_utilisation = duration_sums / bike_lifetime"
   ]
  },
  {
   "cell_type": "code",
   "execution_count": 57,
   "id": "58ebadd8",
   "metadata": {},
   "outputs": [
    {
     "data": {
      "text/plain": [
       "0.041590354670607635"
      ]
     },
     "execution_count": 57,
     "metadata": {},
     "output_type": "execute_result"
    }
   ],
   "source": [
    "bike_utilisation.mean()"
   ]
  },
  {
   "cell_type": "code",
   "execution_count": 58,
   "id": "fdc7558d",
   "metadata": {},
   "outputs": [
    {
     "data": {
      "text/plain": [
       "<AxesSubplot:>"
      ]
     },
     "execution_count": 58,
     "metadata": {},
     "output_type": "execute_result"
    },
    {
     "data": {
      "image/png": "[encoded data removed]",
      "text/plain": [
       "<Figure size 432x288 with 1 Axes>"
      ]
     },
     "metadata": {
      "needs_background": "light"
     },
     "output_type": "display_data"
    }
   ],
   "source": [
    "bike_utilisation.hist(bins=100)"
   ]
  },
  {
   "cell_type": "markdown",
   "id": "326eab30",
   "metadata": {},
   "source": [
    "### per month\n",
    "\n",
    "- how many bikes are \"alive\" by month?\n",
    "\n",
    "- what is bike utilisation by month?"
   ]
  },
  {
   "cell_type": "code",
   "execution_count": 80,
   "id": "3fffcfbe",
   "metadata": {},
   "outputs": [
    {
     "data": {
      "text/plain": [
       "start_date    6390\n",
       "dtype: int64"
      ]
     },
     "execution_count": 80,
     "metadata": {},
     "output_type": "execute_result"
    }
   ],
   "source": [
    "g.count()"
   ]
  },
  {
   "cell_type": "code",
   "execution_count": 81,
   "id": "f72480f7",
   "metadata": {},
   "outputs": [],
   "source": [
    "starts_per_month = bike_start.to_frame().groupby(pd.Grouper(key=\"start_date\", freq=\"1M\")).count()\n",
    "starts_per_month = bike_end.to_frame().groupby(pd.Grouper(key=\"end_date\", freq=\"1M\")).count()"
   ]
  },
  {
   "cell_type": "code",
   "execution_count": 85,
   "id": "94fe5624",
   "metadata": {},
   "outputs": [],
   "source": [
    "for k,g in bike_start.to_frame().groupby(pd.Grouper(key=\"start_date\", freq=\"1M\")):\n",
    "    break"
   ]
  },
  {
   "cell_type": "code",
   "execution_count": 86,
   "id": "c555781a",
   "metadata": {},
   "outputs": [
    {
     "data": {
      "text/plain": [
       "Timestamp('2012-01-31 00:00:00', freq='M')"
      ]
     },
     "execution_count": 86,
     "metadata": {},
     "output_type": "execute_result"
    }
   ],
   "source": [
    "k"
   ]
  },
  {
   "cell_type": "code",
   "execution_count": 89,
   "id": "8477efd0",
   "metadata": {},
   "outputs": [],
   "source": [
    "gs = bike_start.to_frame().groupby(pd.Grouper(key=\"start_date\", freq=\"1M\"))"
   ]
  },
  {
   "cell_type": "code",
   "execution_count": 100,
   "id": "fdcaa95d",
   "metadata": {},
   "outputs": [
    {
     "data": {
      "text/plain": [
       "<pandas.core.groupby.generic.DataFrameGroupBy object at 0x2c34e2be0>"
      ]
     },
     "execution_count": 100,
     "metadata": {},
     "output_type": "execute_result"
    }
   ],
   "source": [
    "gs"
   ]
  },
  {
   "cell_type": "code",
   "execution_count": 101,
   "id": "65071163",
   "metadata": {},
   "outputs": [],
   "source": [
    "# WIP currently fighting with group objects"
   ]
  },
  {
   "cell_type": "code",
   "execution_count": 65,
   "id": "555f14f9",
   "metadata": {},
   "outputs": [
    {
     "ename": "TypeError",
     "evalue": "Only valid with DatetimeIndex, TimedeltaIndex or PeriodIndex, but got an instance of 'Index'",
     "output_type": "error",
     "traceback": [
      "\u001b[0;31m---------------------------------------------------------------------------\u001b[0m",
      "\u001b[0;31mTypeError\u001b[0m                                 Traceback (most recent call last)",
      "Input \u001b[0;32mIn [65]\u001b[0m, in \u001b[0;36m<cell line: 1>\u001b[0;34m()\u001b[0m\n\u001b[0;32m----> 1\u001b[0m \u001b[43mbike_start\u001b[49m\u001b[38;5;241;43m.\u001b[39;49m\u001b[43mgroupby\u001b[49m\u001b[43m(\u001b[49m\u001b[43mpd\u001b[49m\u001b[38;5;241;43m.\u001b[39;49m\u001b[43mGrouper\u001b[49m\u001b[43m(\u001b[49m\u001b[43mfreq\u001b[49m\u001b[38;5;241;43m=\u001b[39;49m\u001b[38;5;124;43m\"\u001b[39;49m\u001b[38;5;124;43m1M\u001b[39;49m\u001b[38;5;124;43m\"\u001b[39;49m\u001b[43m)\u001b[49m\u001b[43m)\u001b[49m\n",
      "File \u001b[0;32m~/Library/Caches/pypoetry/virtualenvs/pfeffel-03LefcRb-py3.9/lib/python3.9/site-packages/pandas/core/series.py:1922\u001b[0m, in \u001b[0;36mSeries.groupby\u001b[0;34m(self, by, axis, level, as_index, sort, group_keys, squeeze, observed, dropna)\u001b[0m\n\u001b[1;32m   1918\u001b[0m axis \u001b[38;5;241m=\u001b[39m \u001b[38;5;28mself\u001b[39m\u001b[38;5;241m.\u001b[39m_get_axis_number(axis)\n\u001b[1;32m   1920\u001b[0m \u001b[38;5;66;03m# error: Argument \"squeeze\" to \"SeriesGroupBy\" has incompatible type\u001b[39;00m\n\u001b[1;32m   1921\u001b[0m \u001b[38;5;66;03m# \"Union[bool, NoDefault]\"; expected \"bool\"\u001b[39;00m\n\u001b[0;32m-> 1922\u001b[0m \u001b[38;5;28;01mreturn\u001b[39;00m \u001b[43mSeriesGroupBy\u001b[49m\u001b[43m(\u001b[49m\n\u001b[1;32m   1923\u001b[0m \u001b[43m    \u001b[49m\u001b[43mobj\u001b[49m\u001b[38;5;241;43m=\u001b[39;49m\u001b[38;5;28;43mself\u001b[39;49m\u001b[43m,\u001b[49m\n\u001b[1;32m   1924\u001b[0m \u001b[43m    \u001b[49m\u001b[43mkeys\u001b[49m\u001b[38;5;241;43m=\u001b[39;49m\u001b[43mby\u001b[49m\u001b[43m,\u001b[49m\n\u001b[1;32m   1925\u001b[0m \u001b[43m    \u001b[49m\u001b[43maxis\u001b[49m\u001b[38;5;241;43m=\u001b[39;49m\u001b[43maxis\u001b[49m\u001b[43m,\u001b[49m\n\u001b[1;32m   1926\u001b[0m \u001b[43m    \u001b[49m\u001b[43mlevel\u001b[49m\u001b[38;5;241;43m=\u001b[39;49m\u001b[43mlevel\u001b[49m\u001b[43m,\u001b[49m\n\u001b[1;32m   1927\u001b[0m \u001b[43m    \u001b[49m\u001b[43mas_index\u001b[49m\u001b[38;5;241;43m=\u001b[39;49m\u001b[43mas_index\u001b[49m\u001b[43m,\u001b[49m\n\u001b[1;32m   1928\u001b[0m \u001b[43m    \u001b[49m\u001b[43msort\u001b[49m\u001b[38;5;241;43m=\u001b[39;49m\u001b[43msort\u001b[49m\u001b[43m,\u001b[49m\n\u001b[1;32m   1929\u001b[0m \u001b[43m    \u001b[49m\u001b[43mgroup_keys\u001b[49m\u001b[38;5;241;43m=\u001b[39;49m\u001b[43mgroup_keys\u001b[49m\u001b[43m,\u001b[49m\n\u001b[1;32m   1930\u001b[0m \u001b[43m    \u001b[49m\u001b[43msqueeze\u001b[49m\u001b[38;5;241;43m=\u001b[39;49m\u001b[43msqueeze\u001b[49m\u001b[43m,\u001b[49m\u001b[43m  \u001b[49m\u001b[38;5;66;43;03m# type: ignore[arg-type]\u001b[39;49;00m\n\u001b[1;32m   1931\u001b[0m \u001b[43m    \u001b[49m\u001b[43mobserved\u001b[49m\u001b[38;5;241;43m=\u001b[39;49m\u001b[43mobserved\u001b[49m\u001b[43m,\u001b[49m\n\u001b[1;32m   1932\u001b[0m \u001b[43m    \u001b[49m\u001b[43mdropna\u001b[49m\u001b[38;5;241;43m=\u001b[39;49m\u001b[43mdropna\u001b[49m\u001b[43m,\u001b[49m\n\u001b[1;32m   1933\u001b[0m \u001b[43m\u001b[49m\u001b[43m)\u001b[49m\n",
      "File \u001b[0;32m~/Library/Caches/pypoetry/virtualenvs/pfeffel-03LefcRb-py3.9/lib/python3.9/site-packages/pandas/core/groupby/groupby.py:882\u001b[0m, in \u001b[0;36mGroupBy.__init__\u001b[0;34m(self, obj, keys, axis, level, grouper, exclusions, selection, as_index, sort, group_keys, squeeze, observed, mutated, dropna)\u001b[0m\n\u001b[1;32m    879\u001b[0m \u001b[38;5;28;01mif\u001b[39;00m grouper \u001b[38;5;129;01mis\u001b[39;00m \u001b[38;5;28;01mNone\u001b[39;00m:\n\u001b[1;32m    880\u001b[0m     \u001b[38;5;28;01mfrom\u001b[39;00m \u001b[38;5;21;01mpandas\u001b[39;00m\u001b[38;5;21;01m.\u001b[39;00m\u001b[38;5;21;01mcore\u001b[39;00m\u001b[38;5;21;01m.\u001b[39;00m\u001b[38;5;21;01mgroupby\u001b[39;00m\u001b[38;5;21;01m.\u001b[39;00m\u001b[38;5;21;01mgrouper\u001b[39;00m \u001b[38;5;28;01mimport\u001b[39;00m get_grouper\n\u001b[0;32m--> 882\u001b[0m     grouper, exclusions, obj \u001b[38;5;241m=\u001b[39m \u001b[43mget_grouper\u001b[49m\u001b[43m(\u001b[49m\n\u001b[1;32m    883\u001b[0m \u001b[43m        \u001b[49m\u001b[43mobj\u001b[49m\u001b[43m,\u001b[49m\n\u001b[1;32m    884\u001b[0m \u001b[43m        \u001b[49m\u001b[43mkeys\u001b[49m\u001b[43m,\u001b[49m\n\u001b[1;32m    885\u001b[0m \u001b[43m        \u001b[49m\u001b[43maxis\u001b[49m\u001b[38;5;241;43m=\u001b[39;49m\u001b[43maxis\u001b[49m\u001b[43m,\u001b[49m\n\u001b[1;32m    886\u001b[0m \u001b[43m        \u001b[49m\u001b[43mlevel\u001b[49m\u001b[38;5;241;43m=\u001b[39;49m\u001b[43mlevel\u001b[49m\u001b[43m,\u001b[49m\n\u001b[1;32m    887\u001b[0m \u001b[43m        \u001b[49m\u001b[43msort\u001b[49m\u001b[38;5;241;43m=\u001b[39;49m\u001b[43msort\u001b[49m\u001b[43m,\u001b[49m\n\u001b[1;32m    888\u001b[0m \u001b[43m        \u001b[49m\u001b[43mobserved\u001b[49m\u001b[38;5;241;43m=\u001b[39;49m\u001b[43mobserved\u001b[49m\u001b[43m,\u001b[49m\n\u001b[1;32m    889\u001b[0m \u001b[43m        \u001b[49m\u001b[43mmutated\u001b[49m\u001b[38;5;241;43m=\u001b[39;49m\u001b[38;5;28;43mself\u001b[39;49m\u001b[38;5;241;43m.\u001b[39;49m\u001b[43mmutated\u001b[49m\u001b[43m,\u001b[49m\n\u001b[1;32m    890\u001b[0m \u001b[43m        \u001b[49m\u001b[43mdropna\u001b[49m\u001b[38;5;241;43m=\u001b[39;49m\u001b[38;5;28;43mself\u001b[39;49m\u001b[38;5;241;43m.\u001b[39;49m\u001b[43mdropna\u001b[49m\u001b[43m,\u001b[49m\n\u001b[1;32m    891\u001b[0m \u001b[43m    \u001b[49m\u001b[43m)\u001b[49m\n\u001b[1;32m    893\u001b[0m \u001b[38;5;28mself\u001b[39m\u001b[38;5;241m.\u001b[39mobj \u001b[38;5;241m=\u001b[39m obj\n\u001b[1;32m    894\u001b[0m \u001b[38;5;28mself\u001b[39m\u001b[38;5;241m.\u001b[39maxis \u001b[38;5;241m=\u001b[39m obj\u001b[38;5;241m.\u001b[39m_get_axis_number(axis)\n",
      "File \u001b[0;32m~/Library/Caches/pypoetry/virtualenvs/pfeffel-03LefcRb-py3.9/lib/python3.9/site-packages/pandas/core/groupby/grouper.py:784\u001b[0m, in \u001b[0;36mget_grouper\u001b[0;34m(obj, key, axis, level, sort, observed, mutated, validate, dropna)\u001b[0m\n\u001b[1;32m    782\u001b[0m \u001b[38;5;66;03m# a passed-in Grouper, directly convert\u001b[39;00m\n\u001b[1;32m    783\u001b[0m \u001b[38;5;28;01mif\u001b[39;00m \u001b[38;5;28misinstance\u001b[39m(key, Grouper):\n\u001b[0;32m--> 784\u001b[0m     binner, grouper, obj \u001b[38;5;241m=\u001b[39m \u001b[43mkey\u001b[49m\u001b[38;5;241;43m.\u001b[39;49m\u001b[43m_get_grouper\u001b[49m\u001b[43m(\u001b[49m\u001b[43mobj\u001b[49m\u001b[43m,\u001b[49m\u001b[43m \u001b[49m\u001b[43mvalidate\u001b[49m\u001b[38;5;241;43m=\u001b[39;49m\u001b[38;5;28;43;01mFalse\u001b[39;49;00m\u001b[43m)\u001b[49m\n\u001b[1;32m    785\u001b[0m     \u001b[38;5;28;01mif\u001b[39;00m key\u001b[38;5;241m.\u001b[39mkey \u001b[38;5;129;01mis\u001b[39;00m \u001b[38;5;28;01mNone\u001b[39;00m:\n\u001b[1;32m    786\u001b[0m         \u001b[38;5;28;01mreturn\u001b[39;00m grouper, \u001b[38;5;28mfrozenset\u001b[39m(), obj\n",
      "File \u001b[0;32m~/Library/Caches/pypoetry/virtualenvs/pfeffel-03LefcRb-py3.9/lib/python3.9/site-packages/pandas/core/resample.py:1607\u001b[0m, in \u001b[0;36mTimeGrouper._get_grouper\u001b[0;34m(self, obj, validate)\u001b[0m\n\u001b[1;32m   1605\u001b[0m \u001b[38;5;28;01mdef\u001b[39;00m \u001b[38;5;21m_get_grouper\u001b[39m(\u001b[38;5;28mself\u001b[39m, obj, validate: \u001b[38;5;28mbool\u001b[39m \u001b[38;5;241m=\u001b[39m \u001b[38;5;28;01mTrue\u001b[39;00m):\n\u001b[1;32m   1606\u001b[0m     \u001b[38;5;66;03m# create the resampler and return our binner\u001b[39;00m\n\u001b[0;32m-> 1607\u001b[0m     r \u001b[38;5;241m=\u001b[39m \u001b[38;5;28;43mself\u001b[39;49m\u001b[38;5;241;43m.\u001b[39;49m\u001b[43m_get_resampler\u001b[49m\u001b[43m(\u001b[49m\u001b[43mobj\u001b[49m\u001b[43m)\u001b[49m\n\u001b[1;32m   1608\u001b[0m     \u001b[38;5;28;01mreturn\u001b[39;00m r\u001b[38;5;241m.\u001b[39mbinner, r\u001b[38;5;241m.\u001b[39mgrouper, r\u001b[38;5;241m.\u001b[39mobj\n",
      "File \u001b[0;32m~/Library/Caches/pypoetry/virtualenvs/pfeffel-03LefcRb-py3.9/lib/python3.9/site-packages/pandas/core/resample.py:1599\u001b[0m, in \u001b[0;36mTimeGrouper._get_resampler\u001b[0;34m(self, obj, kind)\u001b[0m\n\u001b[1;32m   1596\u001b[0m \u001b[38;5;28;01melif\u001b[39;00m \u001b[38;5;28misinstance\u001b[39m(ax, TimedeltaIndex):\n\u001b[1;32m   1597\u001b[0m     \u001b[38;5;28;01mreturn\u001b[39;00m TimedeltaIndexResampler(obj, groupby\u001b[38;5;241m=\u001b[39m\u001b[38;5;28mself\u001b[39m, axis\u001b[38;5;241m=\u001b[39m\u001b[38;5;28mself\u001b[39m\u001b[38;5;241m.\u001b[39maxis)\n\u001b[0;32m-> 1599\u001b[0m \u001b[38;5;28;01mraise\u001b[39;00m \u001b[38;5;167;01mTypeError\u001b[39;00m(\n\u001b[1;32m   1600\u001b[0m     \u001b[38;5;124m\"\u001b[39m\u001b[38;5;124mOnly valid with DatetimeIndex, \u001b[39m\u001b[38;5;124m\"\u001b[39m\n\u001b[1;32m   1601\u001b[0m     \u001b[38;5;124m\"\u001b[39m\u001b[38;5;124mTimedeltaIndex or PeriodIndex, \u001b[39m\u001b[38;5;124m\"\u001b[39m\n\u001b[1;32m   1602\u001b[0m     \u001b[38;5;124mf\u001b[39m\u001b[38;5;124m\"\u001b[39m\u001b[38;5;124mbut got an instance of \u001b[39m\u001b[38;5;124m'\u001b[39m\u001b[38;5;132;01m{\u001b[39;00m\u001b[38;5;28mtype\u001b[39m(ax)\u001b[38;5;241m.\u001b[39m\u001b[38;5;18m__name__\u001b[39m\u001b[38;5;132;01m}\u001b[39;00m\u001b[38;5;124m'\u001b[39m\u001b[38;5;124m\"\u001b[39m\n\u001b[1;32m   1603\u001b[0m )\n",
      "\u001b[0;31mTypeError\u001b[0m: Only valid with DatetimeIndex, TimedeltaIndex or PeriodIndex, but got an instance of 'Index'"
     ]
    }
   ],
   "source": [
    "bike_start.groupby(pd.Grouper(freq=\"1M\"))"
   ]
  },
  {
   "cell_type": "code",
   "execution_count": 62,
   "id": "cc3b0d01",
   "metadata": {},
   "outputs": [
    {
     "ename": "AttributeError",
     "evalue": "module 'pandas' has no attribute 'TimeGrouper'",
     "output_type": "error",
     "traceback": [
      "\u001b[0;31m---------------------------------------------------------------------------\u001b[0m",
      "\u001b[0;31mAttributeError\u001b[0m                            Traceback (most recent call last)",
      "Input \u001b[0;32mIn [62]\u001b[0m, in \u001b[0;36m<cell line: 1>\u001b[0;34m()\u001b[0m\n\u001b[0;32m----> 1\u001b[0m bike_start\u001b[38;5;241m.\u001b[39mgroupby([bike_start,\u001b[43mpd\u001b[49m\u001b[38;5;241;43m.\u001b[39;49m\u001b[43mTimeGrouper\u001b[49m(freq\u001b[38;5;241m=\u001b[39m\u001b[38;5;124m'\u001b[39m\u001b[38;5;124mmonth\u001b[39m\u001b[38;5;124m'\u001b[39m)])\n",
      "File \u001b[0;32m~/Library/Caches/pypoetry/virtualenvs/pfeffel-03LefcRb-py3.9/lib/python3.9/site-packages/pandas/__init__.py:261\u001b[0m, in \u001b[0;36m__getattr__\u001b[0;34m(name)\u001b[0m\n\u001b[1;32m    257\u001b[0m     \u001b[38;5;28;01mfrom\u001b[39;00m \u001b[38;5;21;01mpandas\u001b[39;00m\u001b[38;5;21;01m.\u001b[39;00m\u001b[38;5;21;01mcore\u001b[39;00m\u001b[38;5;21;01m.\u001b[39;00m\u001b[38;5;21;01marrays\u001b[39;00m\u001b[38;5;21;01m.\u001b[39;00m\u001b[38;5;21;01msparse\u001b[39;00m \u001b[38;5;28;01mimport\u001b[39;00m SparseArray \u001b[38;5;28;01mas\u001b[39;00m _SparseArray\n\u001b[1;32m    259\u001b[0m     \u001b[38;5;28;01mreturn\u001b[39;00m _SparseArray\n\u001b[0;32m--> 261\u001b[0m \u001b[38;5;28;01mraise\u001b[39;00m \u001b[38;5;167;01mAttributeError\u001b[39;00m(\u001b[38;5;124mf\u001b[39m\u001b[38;5;124m\"\u001b[39m\u001b[38;5;124mmodule \u001b[39m\u001b[38;5;124m'\u001b[39m\u001b[38;5;124mpandas\u001b[39m\u001b[38;5;124m'\u001b[39m\u001b[38;5;124m has no attribute \u001b[39m\u001b[38;5;124m'\u001b[39m\u001b[38;5;132;01m{\u001b[39;00mname\u001b[38;5;132;01m}\u001b[39;00m\u001b[38;5;124m'\u001b[39m\u001b[38;5;124m\"\u001b[39m)\n",
      "\u001b[0;31mAttributeError\u001b[0m: module 'pandas' has no attribute 'TimeGrouper'"
     ]
    }
   ],
   "source": [
    "bike_start.groupby([bike_start,pd.TimeGrouper(freq='month')])"
   ]
  },
  {
   "cell_type": "markdown",
   "id": "675c4047",
   "metadata": {},
   "source": [
    "## Station Areas"
   ]
  },
  {
   "cell_type": "code",
   "execution_count": 161,
   "id": "83e24844",
   "metadata": {},
   "outputs": [
    {
     "name": "stdout",
     "output_type": "stream",
     "text": [
      "CPU times: user 478 ms, sys: 51.2 ms, total: 529 ms\n",
      "Wall time: 528 ms\n"
     ]
    }
   ],
   "source": [
    "%%time\n",
    "all_stations = pd.concat([\n",
    "    df[[\"start_station_id\", \"start_station_name\"]].rename(columns={\"start_station_id\": \"id\", \"start_station_name\": \"name\"}),\n",
    "    df[[\"end_station_id\", \"end_station_name\"]].rename(columns={\"end_station_id\": \"id\", \"end_station_name\": \"name\"})\n",
    "]).convert_dtypes().set_index(keys=\"id\").drop_duplicates().dropna()"
   ]
  },
  {
   "cell_type": "markdown",
   "id": "2c9f6f07",
   "metadata": {},
   "source": [
    "have a look at station name pieces, is the part after the comma an \"area\"?"
   ]
  },
  {
   "cell_type": "code",
   "execution_count": 162,
   "id": "8acd6932",
   "metadata": {},
   "outputs": [
    {
     "data": {
      "application/vnd.jupyter.widget-view+json": {
       "model_id": "66bf67ecc6da4d59966b21cd3c974c46",
       "version_major": 2,
       "version_minor": 0
      },
      "text/plain": [
       "  0%|          | 0/770 [00:00<?, ?it/s]"
      ]
     },
     "metadata": {},
     "output_type": "display_data"
    },
    {
     "data": {
      "application/vnd.jupyter.widget-view+json": {
       "model_id": "0e7411aba1b74896abeeb651cb223955",
       "version_major": 2,
       "version_minor": 0
      },
      "text/plain": [
       "  0%|          | 0/770 [00:00<?, ?it/s]"
      ]
     },
     "metadata": {},
     "output_type": "display_data"
    },
    {
     "data": {
      "application/vnd.jupyter.widget-view+json": {
       "model_id": "536251fa6a8846cda437473b780ce562",
       "version_major": 2,
       "version_minor": 0
      },
      "text/plain": [
       "  0%|          | 0/770 [00:00<?, ?it/s]"
      ]
     },
     "metadata": {},
     "output_type": "display_data"
    }
   ],
   "source": [
    "station_name_pieces = all_stations[\"name\"].progress_map(lambda name: name.split(\",\"))\n",
    "\n",
    "station_single_pieces = station_name_pieces[station_name_pieces.progress_map(len) <= 1]\n",
    "station_areas =  station_name_pieces.progress_map(lambda name_pieces: name_pieces[1] if len(name_pieces) > 1 else None).dropna()"
   ]
  },
  {
   "cell_type": "markdown",
   "id": "0ae61857",
   "metadata": {},
   "source": [
    "what are the items with only one \"piece\" i.e. no comma"
   ]
  },
  {
   "cell_type": "code",
   "execution_count": 168,
   "id": "058be5bf",
   "metadata": {},
   "outputs": [
    {
     "data": {
      "text/plain": [
       "id\n",
       "495         [Bow Church Station :Bow]\n",
       "503    [Cleveland Way :Bethnal Green]\n",
       "485    [Old Ford Road :Bethnal Green]\n",
       "780          [Imperial Wharf Station]\n",
       "446        [York Hall :Bethnal Green]\n",
       "Name: name, dtype: object"
      ]
     },
     "execution_count": 168,
     "metadata": {},
     "output_type": "execute_result"
    }
   ],
   "source": [
    "station_single_pieces.head()"
   ]
  },
  {
   "cell_type": "code",
   "execution_count": 164,
   "id": "6d77b88d",
   "metadata": {},
   "outputs": [
    {
     "data": {
      "text/plain": [
       " Marylebone        27\n",
       " Battersea         19\n",
       " Mayfair           18\n",
       " Holborn           18\n",
       " Kensington        15\n",
       "                   ..\n",
       " Lingham Street     1\n",
       "Hoxton              1\n",
       " Victoria Park      1\n",
       "Shepherd's Bush     1\n",
       " St.John's Wood     1\n",
       "Name: name, Length: 122, dtype: int64"
      ]
     },
     "execution_count": 164,
     "metadata": {},
     "output_type": "execute_result"
    }
   ],
   "source": [
    "station_areas.value_counts()"
   ]
  }
 ],
 "metadata": {
  "kernelspec": {
   "display_name": "pfeffel",
   "language": "python",
   "name": "pfeffel"
  },
  "language_info": {
   "codemirror_mode": {
    "name": "ipython",
    "version": 3
   },
   "file_extension": ".py",
   "mimetype": "text/x-python",
   "name": "python",
   "nbconvert_exporter": "python",
   "pygments_lexer": "ipython3",
   "version": "3.9.5"
  }
 },
 "nbformat": 4,
 "nbformat_minor": 5
}
