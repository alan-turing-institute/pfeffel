{
 "cells": [
  {
   "cell_type": "markdown",
   "id": "2506b2fb",
   "metadata": {},
   "source": [
    "# TODOs\n",
    "\n",
    "- bike deaths (NA in final trip)"
   ]
  },
  {
   "cell_type": "code",
   "execution_count": 57,
   "id": "2edbbae3",
   "metadata": {},
   "outputs": [],
   "source": [
    "import datetime\n",
    "\n",
    "import h3 # uber geo package\n",
    "import pandas as pd\n",
    "import seaborn as sns\n",
    "import numpy as np\n",
    "import matplotlib\n",
    "\n",
    "from tqdm.auto import tqdm"
   ]
  },
  {
   "cell_type": "code",
   "execution_count": 58,
   "id": "f589e0ae",
   "metadata": {},
   "outputs": [],
   "source": [
    "sns.set_theme()\n",
    "tqdm.pandas()\n",
    "matplotlib.rcParams['figure.figsize'] = (20, 10)"
   ]
  },
  {
   "cell_type": "markdown",
   "id": "cfb762fa",
   "metadata": {},
   "source": [
    "# load"
   ]
  },
  {
   "cell_type": "markdown",
   "id": "7d6a1eef",
   "metadata": {},
   "source": [
    "load reference data for bike station locations"
   ]
  },
  {
   "cell_type": "code",
   "execution_count": 3,
   "id": "807127f7",
   "metadata": {},
   "outputs": [],
   "source": [
    "# TODO update\n",
    "RAW = \"/Users/jbishop/Downloads/cleaned_data_20220612_1302.pickle\"\n",
    "\n",
    "LOCATION_REF = \"./data/stations_loc.json\""
   ]
  },
  {
   "cell_type": "code",
   "execution_count": 4,
   "id": "c83ba9d8",
   "metadata": {},
   "outputs": [],
   "source": [
    "station_locations_df = pd.read_json(LOCATION_REF).T"
   ]
  },
  {
   "cell_type": "markdown",
   "id": "03c2af51",
   "metadata": {},
   "source": [
    "main data, load with dask"
   ]
  },
  {
   "cell_type": "code",
   "execution_count": 5,
   "id": "e33bb3da",
   "metadata": {},
   "outputs": [],
   "source": [
    "# load raw data\n",
    "df = pd.read_pickle(RAW)"
   ]
  },
  {
   "cell_type": "markdown",
   "id": "c62c574e",
   "metadata": {},
   "source": [
    "about 100M rows"
   ]
  },
  {
   "cell_type": "code",
   "execution_count": 6,
   "id": "e716510c",
   "metadata": {},
   "outputs": [
    {
     "data": {
      "text/plain": [
       "99448614"
      ]
     },
     "execution_count": 6,
     "metadata": {},
     "output_type": "execute_result"
    }
   ],
   "source": [
    "# num rows\n",
    "len(df)"
   ]
  },
  {
   "cell_type": "markdown",
   "id": "b663bc1b",
   "metadata": {},
   "source": [
    "some cleaning of bad dates"
   ]
  },
  {
   "cell_type": "code",
   "execution_count": 7,
   "id": "0d0d4b94",
   "metadata": {},
   "outputs": [],
   "source": [
    "EARLIEST_DATE = datetime.datetime(2010, 1, 1)"
   ]
  },
  {
   "cell_type": "code",
   "execution_count": 8,
   "id": "f1a1cdb8",
   "metadata": {},
   "outputs": [
    {
     "name": "stdout",
     "output_type": "stream",
     "text": [
      "CPU times: user 38.6 s, sys: 13.4 s, total: 52 s\n",
      "Wall time: 52.2 s\n"
     ]
    }
   ],
   "source": [
    "%%time\n",
    "# filter out of range dates\n",
    "df = df[df[\"start_date\"] > EARLIEST_DATE]\n",
    "# allow NA for end dates\n",
    "df = df[(df[\"end_date\"] > EARLIEST_DATE) | df[\"end_date\"].isna()]\n",
    "\n",
    "# also drop entries where start date before end date\n",
    "df = df[df[\"start_date\"] < df[\"end_date\"]]"
   ]
  },
  {
   "cell_type": "code",
   "execution_count": 9,
   "id": "38f318c1",
   "metadata": {},
   "outputs": [],
   "source": [
    "# recalc duration\n",
    "df[\"duration\"] = df[\"end_date\"]  - df[\"start_date\"] "
   ]
  },
  {
   "cell_type": "markdown",
   "id": "fbde40f2",
   "metadata": {},
   "source": [
    "we've lost a few!"
   ]
  },
  {
   "cell_type": "code",
   "execution_count": 40,
   "id": "2a79c96a",
   "metadata": {},
   "outputs": [
    {
     "data": {
      "text/plain": [
       "98907750"
      ]
     },
     "execution_count": 40,
     "metadata": {},
     "output_type": "execute_result"
    }
   ],
   "source": [
    "len(df)"
   ]
  },
  {
   "cell_type": "markdown",
   "id": "1f621461",
   "metadata": {},
   "source": [
    "# Basic stats"
   ]
  },
  {
   "cell_type": "code",
   "execution_count": 10,
   "id": "3eef5e22",
   "metadata": {},
   "outputs": [
    {
     "name": "stdout",
     "output_type": "stream",
     "text": [
      "CPU times: user 6.62 s, sys: 877 ms, total: 7.49 s\n",
      "Wall time: 7.48 s\n"
     ]
    },
    {
     "data": {
      "text/plain": [
       "21149"
      ]
     },
     "execution_count": 10,
     "metadata": {},
     "output_type": "execute_result"
    }
   ],
   "source": [
    "%%time\n",
    "# how many bikes\n",
    "df[\"bike_id\"].nunique()"
   ]
  },
  {
   "cell_type": "code",
   "execution_count": 11,
   "id": "4f1ce76b",
   "metadata": {},
   "outputs": [],
   "source": [
    "bike_groups = df.groupby(\"bike_id\")"
   ]
  },
  {
   "cell_type": "code",
   "execution_count": 12,
   "id": "e89a1680",
   "metadata": {},
   "outputs": [
    {
     "name": "stdout",
     "output_type": "stream",
     "text": [
      "\n",
      "bike with most trips: 8875\n",
      "did 10197 trips\n",
      "\n",
      "CPU times: user 37 s, sys: 638 ms, total: 37.7 s\n",
      "Wall time: 37.6 s\n"
     ]
    }
   ],
   "source": [
    "%%time\n",
    "# bike with the most trips\n",
    "group_counts = bike_groups.count()[\"filename\"] # pick abritrary column (without nulls) to get counts\n",
    "b_id = group_counts.idxmax()\n",
    "n_trips = group_counts.loc[b_id]\n",
    "\n",
    "print(f\"\"\"\n",
    "bike with most trips: {b_id}\n",
    "did {n_trips} trips\n",
    "\"\"\")"
   ]
  },
  {
   "cell_type": "code",
   "execution_count": 13,
   "id": "2b3ab2e8",
   "metadata": {},
   "outputs": [
    {
     "name": "stdout",
     "output_type": "stream",
     "text": [
      "\n",
      "bike with longest sum duration of trips: 2143\n",
      "total of 234 days 19:13:00 seconds\n",
      "\n",
      "CPU times: user 1.15 s, sys: 213 ms, total: 1.36 s\n",
      "Wall time: 1.36 s\n"
     ]
    }
   ],
   "source": [
    "%%time\n",
    "# bike with the longest trips\n",
    "group_sums = bike_groups[\"duration\"].sum()\n",
    "b_id = group_sums.idxmax()\n",
    "d_sum = group_sums.loc[b_id]\n",
    "\n",
    "\n",
    "print(f\"\"\"\n",
    "bike with longest sum duration of trips: {b_id}\n",
    "total of {d_sum} seconds\n",
    "\"\"\")"
   ]
  },
  {
   "cell_type": "markdown",
   "id": "d54d4615",
   "metadata": {},
   "source": [
    "how long are trips? (excluding outliers)"
   ]
  },
  {
   "cell_type": "code",
   "execution_count": 78,
   "id": "54c56b99",
   "metadata": {},
   "outputs": [
    {
     "data": {
      "text/plain": [
       "<AxesSubplot:>"
      ]
     },
     "execution_count": 78,
     "metadata": {},
     "output_type": "execute_result"
    },
    {
     "data": {
      "image/png": "[encoded data removed]",
      "text/plain": [
       "<Figure size 1440x720 with 1 Axes>"
      ]
     },
     "metadata": {},
     "output_type": "display_data"
    }
   ],
   "source": [
    "df[df[\"duration\"].dt.seconds < 20000][\"duration\"].dt.seconds.hist(bins=50)"
   ]
  },
  {
   "cell_type": "markdown",
   "id": "b60bbe67",
   "metadata": {},
   "source": [
    "## Long-lived bikes"
   ]
  },
  {
   "cell_type": "code",
   "execution_count": 14,
   "id": "78883bb1",
   "metadata": {},
   "outputs": [
    {
     "name": "stdout",
     "output_type": "stream",
     "text": [
      "CPU times: user 3.66 s, sys: 34.4 ms, total: 3.7 s\n",
      "Wall time: 3.69 s\n"
     ]
    }
   ],
   "source": [
    "%%time\n",
    "trips_per_bike = bike_groups[\"filename\"].count()"
   ]
  },
  {
   "cell_type": "code",
   "execution_count": 15,
   "id": "9dc825fa",
   "metadata": {},
   "outputs": [
    {
     "name": "stdout",
     "output_type": "stream",
     "text": [
      "CPU times: user 426 ms, sys: 1.76 ms, total: 428 ms\n",
      "Wall time: 426 ms\n"
     ]
    }
   ],
   "source": [
    "%%time\n",
    "# relies on time ordering of df via rental_id\n",
    "bike_start = bike_groups[\"start_date\"].first()"
   ]
  },
  {
   "cell_type": "code",
   "execution_count": 16,
   "id": "4516fd06",
   "metadata": {},
   "outputs": [
    {
     "name": "stdout",
     "output_type": "stream",
     "text": [
      "CPU times: user 787 ms, sys: 2.24 ms, total: 789 ms\n",
      "Wall time: 787 ms\n"
     ]
    }
   ],
   "source": [
    "%%time\n",
    "# relies on time ordering of df via rental_id\n",
    "bike_end = bike_groups[\"end_date\"].last()"
   ]
  },
  {
   "cell_type": "code",
   "execution_count": 17,
   "id": "a76aeb62",
   "metadata": {},
   "outputs": [
    {
     "name": "stdout",
     "output_type": "stream",
     "text": [
      "CPU times: user 1.62 ms, sys: 1.19 ms, total: 2.81 ms\n",
      "Wall time: 1.71 ms\n"
     ]
    }
   ],
   "source": [
    "%%time \n",
    "bike_lifetime = bike_end - bike_start"
   ]
  },
  {
   "cell_type": "code",
   "execution_count": 61,
   "id": "7e5f7a16",
   "metadata": {},
   "outputs": [
    {
     "data": {
      "text/plain": [
       "<AxesSubplot:>"
      ]
     },
     "execution_count": 61,
     "metadata": {},
     "output_type": "execute_result"
    },
    {
     "data": {
      "image/png": "[encoded data removed]",
      "text/plain": [
       "<Figure size 1440x720 with 1 Axes>"
      ]
     },
     "metadata": {},
     "output_type": "display_data"
    }
   ],
   "source": [
    "bike_lifetime.dt.days.hist(bins=50)"
   ]
  },
  {
   "cell_type": "code",
   "execution_count": 18,
   "id": "7ef95a32",
   "metadata": {},
   "outputs": [
    {
     "name": "stdout",
     "output_type": "stream",
     "text": [
      "CPU times: user 1.03 s, sys: 200 ms, total: 1.23 s\n",
      "Wall time: 1.22 s\n"
     ]
    }
   ],
   "source": [
    "%%time\n",
    "duration_sums = bike_groups[\"duration\"].sum()"
   ]
  },
  {
   "cell_type": "code",
   "execution_count": 19,
   "id": "d0f52093",
   "metadata": {},
   "outputs": [
    {
     "name": "stdout",
     "output_type": "stream",
     "text": [
      "CPU times: user 624 µs, sys: 253 µs, total: 877 µs\n",
      "Wall time: 604 µs\n"
     ]
    }
   ],
   "source": [
    "%%time\n",
    "bike_utilisation = duration_sums / bike_lifetime"
   ]
  },
  {
   "cell_type": "code",
   "execution_count": 20,
   "id": "ed4ab816",
   "metadata": {},
   "outputs": [
    {
     "data": {
      "text/plain": [
       "0.041590354670607635"
      ]
     },
     "execution_count": 20,
     "metadata": {},
     "output_type": "execute_result"
    }
   ],
   "source": [
    "bike_utilisation.mean()"
   ]
  },
  {
   "cell_type": "code",
   "execution_count": 60,
   "id": "4aefca75",
   "metadata": {},
   "outputs": [
    {
     "data": {
      "text/plain": [
       "<AxesSubplot:>"
      ]
     },
     "execution_count": 60,
     "metadata": {},
     "output_type": "execute_result"
    },
    {
     "data": {
      "image/png": "[encoded data removed]",
      "text/plain": [
       "<Figure size 1440x720 with 1 Axes>"
      ]
     },
     "metadata": {},
     "output_type": "display_data"
    }
   ],
   "source": [
    "bike_utilisation.hist(bins=100)"
   ]
  },
  {
   "cell_type": "markdown",
   "id": "c152cf7c",
   "metadata": {},
   "source": [
    "### per month\n",
    "\n",
    "- how many bikes are \"alive\" by month?\n",
    "\n",
    "- how many stations are \"alive\" by month?\n",
    "\n",
    "- what is bike utilisation by month?"
   ]
  },
  {
   "cell_type": "code",
   "execution_count": 22,
   "id": "92dcb299",
   "metadata": {},
   "outputs": [],
   "source": [
    "# don't want to incude first and last months as may be incompelte, use in filter later\n",
    "incomplete_months = df[\"start_date\"].iloc[[0, -1]].dt.to_period(\"M\")\n",
    "\n",
    "\n",
    "# create a complete monthly index that covers ALL months in period \n",
    "complete_monthly_index = pd.date_range(start=df[\"start_date\"].iloc[0], end=df[\"end_date\"].iloc[-1], freq=\"M\").to_period(\"M\")\n",
    "# remove incomplete months\n",
    "complete_monthly_index = complete_monthly_index.delete(complete_monthly_index.isin(incomplete_months))"
   ]
  },
  {
   "cell_type": "code",
   "execution_count": 23,
   "id": "6c542ab2",
   "metadata": {},
   "outputs": [],
   "source": [
    "# TODO should stations count as allive for next month rather than current?\n",
    "def calc_alive_per_month(starts: pd.Series, ends: pd.Series, incomplete_months: pd.Series, complete_monthly_index: pd.PeriodIndex):\n",
    "    starts_per_month = starts.dt.to_period(\"M\").value_counts()\n",
    "    ends_per_month = ends.dt.to_period(\"M\").value_counts()\n",
    "\n",
    "    counts_df = complete_monthly_index.to_frame(name=\"foo\").join(starts_per_month).join(ends_per_month).sort_index().fillna(0)\n",
    "    # ending items should only be counted at the start of next month, so shift\n",
    "    counts_df[\"end_date\"] = counts_df[\"end_date\"].shift(fill_value=0)\n",
    "\n",
    "    alive_per_month = counts_df[\"start_date\"].cumsum() - counts_df[\"end_date\"].cumsum()\n",
    "    \n",
    "    return alive_per_month[~alive_per_month.index.isin(incomplete_months)]"
   ]
  },
  {
   "cell_type": "code",
   "execution_count": 24,
   "id": "5a234d66",
   "metadata": {},
   "outputs": [
    {
     "name": "stdout",
     "output_type": "stream",
     "text": [
      "CPU times: user 9.76 ms, sys: 1.37 ms, total: 11.1 ms\n",
      "Wall time: 10.2 ms\n"
     ]
    }
   ],
   "source": [
    "%%time\n",
    "\n",
    "alive_bikes_per_month = calc_alive_per_month(starts=bike_start, ends=bike_end, incomplete_months=incomplete_months, complete_monthly_index=complete_monthly_index)"
   ]
  },
  {
   "cell_type": "code",
   "execution_count": 25,
   "id": "3af0d2a1",
   "metadata": {},
   "outputs": [
    {
     "name": "stdout",
     "output_type": "stream",
     "text": [
      "CPU times: user 4.83 s, sys: 1.13 s, total: 5.96 s\n",
      "Wall time: 5.96 s\n"
     ]
    }
   ],
   "source": [
    "%%time\n",
    "duration_sums_per_month = df[[\"duration\"]].groupby(df[\"start_date\"].dt.to_period(\"M\"))[\"duration\"].sum()\n",
    "\n",
    "duration_sums_per_month = duration_sums_per_month.to_frame()\n",
    "duration_sums_per_month[\"max_possible_duration\"] = duration_sums_per_month.index.map(lambda x: x.end_time - x.start_time)\n",
    "\n",
    "utilisation_per_month = duration_sums_per_month[\"duration\"] / duration_sums_per_month[\"max_possible_duration\"] / alive_bikes_per_month\n",
    "\n",
    "# remove incomplelte months\n",
    "utilisation_per_month = utilisation_per_month[~utilisation_per_month.index.isin(incomplete_months)]"
   ]
  },
  {
   "cell_type": "code",
   "execution_count": 26,
   "id": "b328f7df",
   "metadata": {},
   "outputs": [
    {
     "name": "stdout",
     "output_type": "stream",
     "text": [
      "CPU times: user 5.85 s, sys: 403 ms, total: 6.25 s\n",
      "Wall time: 6.23 s\n"
     ]
    }
   ],
   "source": [
    "%%time\n",
    "\n",
    "station_groups = df.groupby(\"start_station_id\")\n",
    "\n",
    "# relies on time ordering of df via rental_id\n",
    "station_start = station_groups[\"start_date\"].first()\n",
    "station_end = station_groups[\"end_date\"].last()"
   ]
  },
  {
   "cell_type": "code",
   "execution_count": 27,
   "id": "1191c1bd",
   "metadata": {},
   "outputs": [],
   "source": [
    "alive_stations_per_month = calc_alive_per_month(starts=station_start, ends=station_end,\n",
    "                                                incomplete_months=incomplete_months, complete_monthly_index=complete_monthly_index)"
   ]
  },
  {
   "cell_type": "code",
   "execution_count": 28,
   "id": "a9ce9a5d",
   "metadata": {},
   "outputs": [],
   "source": [
    "# forward fill gaps\n",
    "stats_df = complete_monthly_index.to_frame(name=\"date\")\\\n",
    "    .join(alive_bikes_per_month.rename(\"alive_bikes\"))\\\n",
    "    .join(alive_stations_per_month.rename(\"alive_stations\"))\\\n",
    "    .join(utilisation_per_month.rename(\"utilisation\"))\\\n",
    "    .fillna(method=\"ffill\") "
   ]
  },
  {
   "cell_type": "code",
   "execution_count": 62,
   "id": "cb3788bc",
   "metadata": {},
   "outputs": [
    {
     "data": {
      "text/plain": [
       "array([<AxesSubplot:>, <AxesSubplot:>, <AxesSubplot:>], dtype=object)"
      ]
     },
     "execution_count": 62,
     "metadata": {},
     "output_type": "execute_result"
    },
    {
     "data": {
      "image/png": "[encoded data removed]",
      "text/plain": [
       "<Figure size 1440x720 with 3 Axes>"
      ]
     },
     "metadata": {},
     "output_type": "display_data"
    }
   ],
   "source": [
    "stats_df.plot(subplots=True)"
   ]
  },
  {
   "cell_type": "markdown",
   "id": "991347ca",
   "metadata": {},
   "source": [
    "whats happening to the number of active stations in 2012?"
   ]
  },
  {
   "cell_type": "code",
   "execution_count": 64,
   "id": "e90556c5",
   "metadata": {},
   "outputs": [
    {
     "data": {
      "text/plain": [
       "(568, 566)"
      ]
     },
     "execution_count": 64,
     "metadata": {},
     "output_type": "execute_result"
    }
   ],
   "source": [
    "stats_df_2012 = stats_df[(stats_df.index.to_timestamp() >= datetime.datetime(year=2012, month=1, day=1)) &\n",
    "        (stats_df.index.to_timestamp() < datetime.datetime(year=2013, month=1, day=1))]\n",
    "\n",
    "\n",
    "# increase in April and Decrease in Jul\n",
    "\n",
    "may_2012_new_stations = station_start[(station_start >= datetime.datetime(year=2012, month=5, day=1)) &\n",
    "             (station_start < datetime.datetime(year=2012, month=6, day=1))]\n",
    "\n",
    "# note these will actually be last used in prev month i.e. june\n",
    "jul_2012_removed_stations = station_end[(station_end >= datetime.datetime(year=2012, month=6, day=1)) &\n",
    "             (station_end < datetime.datetime(year=2012, month=7, day=1))]\n",
    "\n",
    "len(may_2012_new_stations), len(jul_2012_removed_stations)"
   ]
  },
  {
   "cell_type": "markdown",
   "id": "89c22395",
   "metadata": {},
   "source": [
    "## Station Areas"
   ]
  },
  {
   "cell_type": "code",
   "execution_count": 38,
   "id": "d52653b5",
   "metadata": {},
   "outputs": [
    {
     "name": "stdout",
     "output_type": "stream",
     "text": [
      "CPU times: user 57.9 s, sys: 13.8 s, total: 1min 11s\n",
      "Wall time: 1min 13s\n"
     ]
    }
   ],
   "source": [
    "%%time\n",
    "all_stations = pd.concat([\n",
    "    df[[\"start_station_id\", \"start_station_name\"]].rename(columns={\"start_station_id\": \"id\", \"start_station_name\": \"name\"}),\n",
    "    df[[\"end_station_id\", \"end_station_name\"]].rename(columns={\"end_station_id\": \"id\", \"end_station_name\": \"name\"})\n",
    "]).convert_dtypes().set_index(keys=\"id\").drop_duplicates().dropna()"
   ]
  },
  {
   "cell_type": "markdown",
   "id": "7033efb4",
   "metadata": {},
   "source": [
    "have a look at station name pieces, is the part after the comma an \"area\"?"
   ]
  },
  {
   "cell_type": "code",
   "execution_count": 39,
   "id": "65e04b21",
   "metadata": {},
   "outputs": [
    {
     "data": {
      "application/vnd.jupyter.widget-view+json": {
       "model_id": "cf877154ada64cb59c588426f64cffdd",
       "version_major": 2,
       "version_minor": 0
      },
      "text/plain": [
       "  0%|          | 0/2410 [00:00<?, ?it/s]"
      ]
     },
     "metadata": {},
     "output_type": "display_data"
    },
    {
     "ename": "AttributeError",
     "evalue": "'int' object has no attribute 'split'",
     "output_type": "error",
     "traceback": [
      "\u001b[0;31m---------------------------------------------------------------------------\u001b[0m",
      "\u001b[0;31mAttributeError\u001b[0m                            Traceback (most recent call last)",
      "Input \u001b[0;32mIn [39]\u001b[0m, in \u001b[0;36m<cell line: 1>\u001b[0;34m()\u001b[0m\n\u001b[0;32m----> 1\u001b[0m station_name_pieces \u001b[38;5;241m=\u001b[39m \u001b[43mall_stations\u001b[49m\u001b[43m[\u001b[49m\u001b[38;5;124;43m\"\u001b[39;49m\u001b[38;5;124;43mname\u001b[39;49m\u001b[38;5;124;43m\"\u001b[39;49m\u001b[43m]\u001b[49m\u001b[38;5;241;43m.\u001b[39;49m\u001b[43mprogress_map\u001b[49m\u001b[43m(\u001b[49m\u001b[38;5;28;43;01mlambda\u001b[39;49;00m\u001b[43m \u001b[49m\u001b[43mname\u001b[49m\u001b[43m:\u001b[49m\u001b[43m \u001b[49m\u001b[43mname\u001b[49m\u001b[38;5;241;43m.\u001b[39;49m\u001b[43msplit\u001b[49m\u001b[43m(\u001b[49m\u001b[38;5;124;43m\"\u001b[39;49m\u001b[38;5;124;43m,\u001b[39;49m\u001b[38;5;124;43m\"\u001b[39;49m\u001b[43m)\u001b[49m\u001b[43m)\u001b[49m\n\u001b[1;32m      3\u001b[0m station_single_pieces \u001b[38;5;241m=\u001b[39m station_name_pieces[station_name_pieces\u001b[38;5;241m.\u001b[39mprogress_map(\u001b[38;5;28mlen\u001b[39m) \u001b[38;5;241m<\u001b[39m\u001b[38;5;241m=\u001b[39m \u001b[38;5;241m1\u001b[39m]\n\u001b[1;32m      4\u001b[0m station_areas \u001b[38;5;241m=\u001b[39m  station_name_pieces\u001b[38;5;241m.\u001b[39mprogress_map(\u001b[38;5;28;01mlambda\u001b[39;00m name_pieces: name_pieces[\u001b[38;5;241m1\u001b[39m] \u001b[38;5;28;01mif\u001b[39;00m \u001b[38;5;28mlen\u001b[39m(name_pieces) \u001b[38;5;241m>\u001b[39m \u001b[38;5;241m1\u001b[39m \u001b[38;5;28;01melse\u001b[39;00m \u001b[38;5;28;01mNone\u001b[39;00m)\u001b[38;5;241m.\u001b[39mdropna()\n",
      "File \u001b[0;32m~/Library/Caches/pypoetry/virtualenvs/pfeffel-03LefcRb-py3.9/lib/python3.9/site-packages/tqdm/std.py:814\u001b[0m, in \u001b[0;36mtqdm.pandas.<locals>.inner_generator.<locals>.inner\u001b[0;34m(df, func, *args, **kwargs)\u001b[0m\n\u001b[1;32m    811\u001b[0m \u001b[38;5;66;03m# Apply the provided function (in **kwargs)\u001b[39;00m\n\u001b[1;32m    812\u001b[0m \u001b[38;5;66;03m# on the df using our wrapper (which provides bar updating)\u001b[39;00m\n\u001b[1;32m    813\u001b[0m \u001b[38;5;28;01mtry\u001b[39;00m:\n\u001b[0;32m--> 814\u001b[0m     \u001b[38;5;28;01mreturn\u001b[39;00m \u001b[38;5;28;43mgetattr\u001b[39;49m\u001b[43m(\u001b[49m\u001b[43mdf\u001b[49m\u001b[43m,\u001b[49m\u001b[43m \u001b[49m\u001b[43mdf_function\u001b[49m\u001b[43m)\u001b[49m\u001b[43m(\u001b[49m\u001b[43mwrapper\u001b[49m\u001b[43m,\u001b[49m\u001b[43m \u001b[49m\u001b[38;5;241;43m*\u001b[39;49m\u001b[38;5;241;43m*\u001b[39;49m\u001b[43mkwargs\u001b[49m\u001b[43m)\u001b[49m\n\u001b[1;32m    815\u001b[0m \u001b[38;5;28;01mfinally\u001b[39;00m:\n\u001b[1;32m    816\u001b[0m     t\u001b[38;5;241m.\u001b[39mclose()\n",
      "File \u001b[0;32m~/Library/Caches/pypoetry/virtualenvs/pfeffel-03LefcRb-py3.9/lib/python3.9/site-packages/pandas/core/series.py:4237\u001b[0m, in \u001b[0;36mSeries.map\u001b[0;34m(self, arg, na_action)\u001b[0m\n\u001b[1;32m   4162\u001b[0m \u001b[38;5;28;01mdef\u001b[39;00m \u001b[38;5;21mmap\u001b[39m(\u001b[38;5;28mself\u001b[39m, arg, na_action\u001b[38;5;241m=\u001b[39m\u001b[38;5;28;01mNone\u001b[39;00m) \u001b[38;5;241m-\u001b[39m\u001b[38;5;241m>\u001b[39m Series:\n\u001b[1;32m   4163\u001b[0m     \u001b[38;5;124;03m\"\"\"\u001b[39;00m\n\u001b[1;32m   4164\u001b[0m \u001b[38;5;124;03m    Map values of Series according to an input mapping or function.\u001b[39;00m\n\u001b[1;32m   4165\u001b[0m \n\u001b[0;32m   (...)\u001b[0m\n\u001b[1;32m   4235\u001b[0m \u001b[38;5;124;03m    dtype: object\u001b[39;00m\n\u001b[1;32m   4236\u001b[0m \u001b[38;5;124;03m    \"\"\"\u001b[39;00m\n\u001b[0;32m-> 4237\u001b[0m     new_values \u001b[38;5;241m=\u001b[39m \u001b[38;5;28;43mself\u001b[39;49m\u001b[38;5;241;43m.\u001b[39;49m\u001b[43m_map_values\u001b[49m\u001b[43m(\u001b[49m\u001b[43marg\u001b[49m\u001b[43m,\u001b[49m\u001b[43m \u001b[49m\u001b[43mna_action\u001b[49m\u001b[38;5;241;43m=\u001b[39;49m\u001b[43mna_action\u001b[49m\u001b[43m)\u001b[49m\n\u001b[1;32m   4238\u001b[0m     \u001b[38;5;28;01mreturn\u001b[39;00m \u001b[38;5;28mself\u001b[39m\u001b[38;5;241m.\u001b[39m_constructor(new_values, index\u001b[38;5;241m=\u001b[39m\u001b[38;5;28mself\u001b[39m\u001b[38;5;241m.\u001b[39mindex)\u001b[38;5;241m.\u001b[39m__finalize__(\n\u001b[1;32m   4239\u001b[0m         \u001b[38;5;28mself\u001b[39m, method\u001b[38;5;241m=\u001b[39m\u001b[38;5;124m\"\u001b[39m\u001b[38;5;124mmap\u001b[39m\u001b[38;5;124m\"\u001b[39m\n\u001b[1;32m   4240\u001b[0m     )\n",
      "File \u001b[0;32m~/Library/Caches/pypoetry/virtualenvs/pfeffel-03LefcRb-py3.9/lib/python3.9/site-packages/pandas/core/base.py:880\u001b[0m, in \u001b[0;36mIndexOpsMixin._map_values\u001b[0;34m(self, mapper, na_action)\u001b[0m\n\u001b[1;32m    877\u001b[0m         \u001b[38;5;28;01mraise\u001b[39;00m \u001b[38;5;167;01mValueError\u001b[39;00m(msg)\n\u001b[1;32m    879\u001b[0m \u001b[38;5;66;03m# mapper is a function\u001b[39;00m\n\u001b[0;32m--> 880\u001b[0m new_values \u001b[38;5;241m=\u001b[39m \u001b[43mmap_f\u001b[49m\u001b[43m(\u001b[49m\u001b[43mvalues\u001b[49m\u001b[43m,\u001b[49m\u001b[43m \u001b[49m\u001b[43mmapper\u001b[49m\u001b[43m)\u001b[49m\n\u001b[1;32m    882\u001b[0m \u001b[38;5;28;01mreturn\u001b[39;00m new_values\n",
      "File \u001b[0;32mpandas/_libs/lib.pyx:2870\u001b[0m, in \u001b[0;36mpandas._libs.lib.map_infer\u001b[0;34m()\u001b[0m\n",
      "File \u001b[0;32m~/Library/Caches/pypoetry/virtualenvs/pfeffel-03LefcRb-py3.9/lib/python3.9/site-packages/tqdm/std.py:809\u001b[0m, in \u001b[0;36mtqdm.pandas.<locals>.inner_generator.<locals>.inner.<locals>.wrapper\u001b[0;34m(*args, **kwargs)\u001b[0m\n\u001b[1;32m    803\u001b[0m \u001b[38;5;28;01mdef\u001b[39;00m \u001b[38;5;21mwrapper\u001b[39m(\u001b[38;5;241m*\u001b[39margs, \u001b[38;5;241m*\u001b[39m\u001b[38;5;241m*\u001b[39mkwargs):\n\u001b[1;32m    804\u001b[0m     \u001b[38;5;66;03m# update tbar correctly\u001b[39;00m\n\u001b[1;32m    805\u001b[0m     \u001b[38;5;66;03m# it seems `pandas apply` calls `func` twice\u001b[39;00m\n\u001b[1;32m    806\u001b[0m     \u001b[38;5;66;03m# on the first column/row to decide whether it can\u001b[39;00m\n\u001b[1;32m    807\u001b[0m     \u001b[38;5;66;03m# take a fast or slow code path; so stop when t.total==t.n\u001b[39;00m\n\u001b[1;32m    808\u001b[0m     t\u001b[38;5;241m.\u001b[39mupdate(n\u001b[38;5;241m=\u001b[39m\u001b[38;5;241m1\u001b[39m \u001b[38;5;28;01mif\u001b[39;00m \u001b[38;5;129;01mnot\u001b[39;00m t\u001b[38;5;241m.\u001b[39mtotal \u001b[38;5;129;01mor\u001b[39;00m t\u001b[38;5;241m.\u001b[39mn \u001b[38;5;241m<\u001b[39m t\u001b[38;5;241m.\u001b[39mtotal \u001b[38;5;28;01melse\u001b[39;00m \u001b[38;5;241m0\u001b[39m)\n\u001b[0;32m--> 809\u001b[0m     \u001b[38;5;28;01mreturn\u001b[39;00m \u001b[43mfunc\u001b[49m\u001b[43m(\u001b[49m\u001b[38;5;241;43m*\u001b[39;49m\u001b[43margs\u001b[49m\u001b[43m,\u001b[49m\u001b[43m \u001b[49m\u001b[38;5;241;43m*\u001b[39;49m\u001b[38;5;241;43m*\u001b[39;49m\u001b[43mkwargs\u001b[49m\u001b[43m)\u001b[49m\n",
      "Input \u001b[0;32mIn [39]\u001b[0m, in \u001b[0;36m<lambda>\u001b[0;34m(name)\u001b[0m\n\u001b[0;32m----> 1\u001b[0m station_name_pieces \u001b[38;5;241m=\u001b[39m all_stations[\u001b[38;5;124m\"\u001b[39m\u001b[38;5;124mname\u001b[39m\u001b[38;5;124m\"\u001b[39m]\u001b[38;5;241m.\u001b[39mprogress_map(\u001b[38;5;28;01mlambda\u001b[39;00m name: \u001b[43mname\u001b[49m\u001b[38;5;241;43m.\u001b[39;49m\u001b[43msplit\u001b[49m(\u001b[38;5;124m\"\u001b[39m\u001b[38;5;124m,\u001b[39m\u001b[38;5;124m\"\u001b[39m))\n\u001b[1;32m      3\u001b[0m station_single_pieces \u001b[38;5;241m=\u001b[39m station_name_pieces[station_name_pieces\u001b[38;5;241m.\u001b[39mprogress_map(\u001b[38;5;28mlen\u001b[39m) \u001b[38;5;241m<\u001b[39m\u001b[38;5;241m=\u001b[39m \u001b[38;5;241m1\u001b[39m]\n\u001b[1;32m      4\u001b[0m station_areas \u001b[38;5;241m=\u001b[39m  station_name_pieces\u001b[38;5;241m.\u001b[39mprogress_map(\u001b[38;5;28;01mlambda\u001b[39;00m name_pieces: name_pieces[\u001b[38;5;241m1\u001b[39m] \u001b[38;5;28;01mif\u001b[39;00m \u001b[38;5;28mlen\u001b[39m(name_pieces) \u001b[38;5;241m>\u001b[39m \u001b[38;5;241m1\u001b[39m \u001b[38;5;28;01melse\u001b[39;00m \u001b[38;5;28;01mNone\u001b[39;00m)\u001b[38;5;241m.\u001b[39mdropna()\n",
      "\u001b[0;31mAttributeError\u001b[0m: 'int' object has no attribute 'split'"
     ]
    }
   ],
   "source": [
    "station_name_pieces = all_stations[\"name\"].progress_map(lambda name: name.split(\",\"))\n",
    "\n",
    "station_single_pieces = station_name_pieces[station_name_pieces.progress_map(len) <= 1]\n",
    "station_areas =  station_name_pieces.progress_map(lambda name_pieces: name_pieces[1] if len(name_pieces) > 1 else None).dropna()"
   ]
  },
  {
   "cell_type": "markdown",
   "id": "5fea552e",
   "metadata": {},
   "source": [
    "what are the items with only one \"piece\" i.e. no comma"
   ]
  },
  {
   "cell_type": "code",
   "execution_count": null,
   "id": "f2def015",
   "metadata": {},
   "outputs": [],
   "source": [
    "station_single_pieces.head()"
   ]
  },
  {
   "cell_type": "code",
   "execution_count": null,
   "id": "0bc5377e",
   "metadata": {},
   "outputs": [],
   "source": [
    "station_areas.value_counts()"
   ]
  },
  {
   "cell_type": "markdown",
   "id": "70aa317a",
   "metadata": {},
   "source": [
    "# chains\n",
    "\n",
    "run for some subset only. Try long lived bikes"
   ]
  },
  {
   "cell_type": "code",
   "execution_count": null,
   "id": "13636a08",
   "metadata": {},
   "outputs": [],
   "source": [
    "top_ten_lived_bike_ids = bike_lifetime.sort_values()[-10:].index.values"
   ]
  },
  {
   "cell_type": "code",
   "execution_count": 209,
   "id": "c98fbcfe",
   "metadata": {},
   "outputs": [],
   "source": [
    "top_ten_bike_subset = df[df[\"bike_id\"].isin(top_ten_lived_bike_ids)].copy()"
   ]
  },
  {
   "cell_type": "code",
   "execution_count": 210,
   "id": "17219a42",
   "metadata": {},
   "outputs": [],
   "source": [
    "# NOTE - how to handle workshops?\n",
    "# what if workshop is start ?\n",
    "# what if workshop is end ?\n",
    "def add_chains(bike_id: int, bike_group: pd.DataFrame, df: pd.DataFrame) -> None:\n",
    "    \"\"\" note: adds to dataframe as side effect \"\"\"\n",
    "\n",
    "    # note fillna for end station to allow for comparison to NA\n",
    "    breaks = bike_group[bike_group[\"start_station_id\"] != bike_group.shift()[\"end_station_id\"].fillna(-1)]\n",
    "    break_indices = breaks.index.values\n",
    "\n",
    "    chains = list()\n",
    "    for i, (start, end) in enumerate(zip([None, *break_indices], [*break_indices, None])):\n",
    "        chain = bike_group.loc[start:end]\n",
    "        chain_id = f\"{bike_id}_{i}\"\n",
    "        chains.append(pd.Series(chain_id, index=chain.index))\n",
    "    return pd.concat(chains)"
   ]
  },
  {
   "cell_type": "code",
   "execution_count": 211,
   "id": "2cef2b08",
   "metadata": {},
   "outputs": [
    {
     "data": {
      "application/vnd.jupyter.widget-view+json": {
       "model_id": "ed6fd75c7bf1483c9301ec830616f81d",
       "version_major": 2,
       "version_minor": 0
      },
      "text/plain": [
       "  0%|          | 0/10 [00:00<?, ?it/s]"
      ]
     },
     "metadata": {},
     "output_type": "display_data"
    }
   ],
   "source": [
    "chains = list()\n",
    "for k, g in tqdm(top_ten_bike_subset.groupby(\"bike_id\")):\n",
    "    g = bike_groups.get_group(k)\n",
    "    chains.append(add_chains(bike_id=k, bike_group=g, df=df))"
   ]
  },
  {
   "cell_type": "code",
   "execution_count": 218,
   "id": "4a12d171",
   "metadata": {},
   "outputs": [],
   "source": [
    "top_ten_bike_subset = top_ten_bike_subset.join(pd.concat(chains).rename(\"chain_id\"))"
   ]
  },
  {
   "cell_type": "code",
   "execution_count": 219,
   "id": "0377e185",
   "metadata": {},
   "outputs": [],
   "source": [
    "top_ten_bike_subset.to_pickle(\"top_ten_bikes.pickle\")"
   ]
  },
  {
   "cell_type": "code",
   "execution_count": null,
   "id": "73ee1ba5",
   "metadata": {},
   "outputs": [],
   "source": []
  },
  {
   "cell_type": "code",
   "execution_count": null,
   "id": "e4b2c84c",
   "metadata": {},
   "outputs": [],
   "source": []
  },
  {
   "cell_type": "code",
   "execution_count": null,
   "id": "4af31a1d",
   "metadata": {},
   "outputs": [],
   "source": []
  },
  {
   "cell_type": "markdown",
   "id": "780cc160",
   "metadata": {},
   "source": [
    "----"
   ]
  },
  {
   "cell_type": "code",
   "execution_count": null,
   "id": "f6cbd5f3",
   "metadata": {},
   "outputs": [],
   "source": []
  },
  {
   "cell_type": "code",
   "execution_count": 112,
   "id": "151426f7",
   "metadata": {},
   "outputs": [],
   "source": [
    "boris = df[df[\"bike_id\"] == 10296]"
   ]
  },
  {
   "cell_type": "code",
   "execution_count": 121,
   "id": "292eea0b",
   "metadata": {},
   "outputs": [
    {
     "data": {
      "text/html": [
       "<div>\n",
       "<style scoped>\n",
       "    .dataframe tbody tr th:only-of-type {\n",
       "        vertical-align: middle;\n",
       "    }\n",
       "\n",
       "    .dataframe tbody tr th {\n",
       "        vertical-align: top;\n",
       "    }\n",
       "\n",
       "    .dataframe thead th {\n",
       "        text-align: right;\n",
       "    }\n",
       "</style>\n",
       "<table border=\"1\" class=\"dataframe\">\n",
       "  <thead>\n",
       "    <tr style=\"text-align: right;\">\n",
       "      <th></th>\n",
       "      <th>duration</th>\n",
       "      <th>bike_id</th>\n",
       "      <th>end_date</th>\n",
       "      <th>end_station_id</th>\n",
       "      <th>end_station_name</th>\n",
       "      <th>start_date</th>\n",
       "      <th>start_station_id</th>\n",
       "      <th>start_station_name</th>\n",
       "      <th>filename</th>\n",
       "    </tr>\n",
       "    <tr>\n",
       "      <th>rental_id</th>\n",
       "      <th></th>\n",
       "      <th></th>\n",
       "      <th></th>\n",
       "      <th></th>\n",
       "      <th></th>\n",
       "      <th></th>\n",
       "      <th></th>\n",
       "      <th></th>\n",
       "      <th></th>\n",
       "    </tr>\n",
       "  </thead>\n",
       "  <tbody>\n",
       "  </tbody>\n",
       "</table>\n",
       "</div>"
      ],
      "text/plain": [
       "Empty DataFrame\n",
       "Columns: [duration, bike_id, end_date, end_station_id, end_station_name, start_date, start_station_id, start_station_name, filename]\n",
       "Index: []"
      ]
     },
     "execution_count": 121,
     "metadata": {},
     "output_type": "execute_result"
    }
   ],
   "source": [
    "#feb13\n",
    "boris[(boris[\"start_date\"].dt.month == 1) & (boris[\"start_date\"].dt.year == 2013)]"
   ]
  },
  {
   "cell_type": "code",
   "execution_count": 122,
   "id": "10cd614e",
   "metadata": {},
   "outputs": [
    {
     "data": {
      "text/html": [
       "<div>\n",
       "<style scoped>\n",
       "    .dataframe tbody tr th:only-of-type {\n",
       "        vertical-align: middle;\n",
       "    }\n",
       "\n",
       "    .dataframe tbody tr th {\n",
       "        vertical-align: top;\n",
       "    }\n",
       "\n",
       "    .dataframe thead th {\n",
       "        text-align: right;\n",
       "    }\n",
       "</style>\n",
       "<table border=\"1\" class=\"dataframe\">\n",
       "  <thead>\n",
       "    <tr style=\"text-align: right;\">\n",
       "      <th></th>\n",
       "      <th>duration</th>\n",
       "      <th>bike_id</th>\n",
       "      <th>end_date</th>\n",
       "      <th>end_station_id</th>\n",
       "      <th>end_station_name</th>\n",
       "      <th>start_date</th>\n",
       "      <th>start_station_id</th>\n",
       "      <th>start_station_name</th>\n",
       "      <th>filename</th>\n",
       "    </tr>\n",
       "    <tr>\n",
       "      <th>rental_id</th>\n",
       "      <th></th>\n",
       "      <th></th>\n",
       "      <th></th>\n",
       "      <th></th>\n",
       "      <th></th>\n",
       "      <th></th>\n",
       "      <th></th>\n",
       "      <th></th>\n",
       "      <th></th>\n",
       "    </tr>\n",
       "  </thead>\n",
       "  <tbody>\n",
       "    <tr>\n",
       "      <th>29502441</th>\n",
       "      <td>0 days 00:05:00</td>\n",
       "      <td>10296</td>\n",
       "      <td>2013-12-17 08:42:00</td>\n",
       "      <td>73</td>\n",
       "      <td>Old Street Station, St. Luke's</td>\n",
       "      <td>2013-12-17 08:37:00</td>\n",
       "      <td>351.0</td>\n",
       "      <td>Macclesfield Rd, St Lukes</td>\n",
       "      <td>../bikes/14. Journey Data Extract 08Dec13-04Ja...</td>\n",
       "    </tr>\n",
       "    <tr>\n",
       "      <th>29504497</th>\n",
       "      <td>0 days 00:07:00</td>\n",
       "      <td>10296</td>\n",
       "      <td>2013-12-17 09:31:00</td>\n",
       "      <td>135</td>\n",
       "      <td>Clerkenwell Green, Clerkenwell</td>\n",
       "      <td>2013-12-17 09:24:00</td>\n",
       "      <td>73.0</td>\n",
       "      <td>Old Street Station, St. Luke's</td>\n",
       "      <td>../bikes/14. Journey Data Extract 08Dec13-04Ja...</td>\n",
       "    </tr>\n",
       "    <tr>\n",
       "      <th>29504753</th>\n",
       "      <td>0 days 00:05:00</td>\n",
       "      <td>10296</td>\n",
       "      <td>2013-12-17 09:40:00</td>\n",
       "      <td>66</td>\n",
       "      <td>Holborn Circus, Holborn</td>\n",
       "      <td>2013-12-17 09:35:00</td>\n",
       "      <td>135.0</td>\n",
       "      <td>Clerkenwell Green, Clerkenwell</td>\n",
       "      <td>../bikes/14. Journey Data Extract 08Dec13-04Ja...</td>\n",
       "    </tr>\n",
       "    <tr>\n",
       "      <th>29505281</th>\n",
       "      <td>0 days 00:15:00</td>\n",
       "      <td>10296</td>\n",
       "      <td>2013-12-17 10:20:00</td>\n",
       "      <td>717</td>\n",
       "      <td>Dunston Road , Haggerston</td>\n",
       "      <td>2013-12-17 10:05:00</td>\n",
       "      <td>593.0</td>\n",
       "      <td>Northdown Street, King's Cross</td>\n",
       "      <td>../bikes/14. Journey Data Extract 08Dec13-04Ja...</td>\n",
       "    </tr>\n",
       "    <tr>\n",
       "      <th>29506025</th>\n",
       "      <td>0 days 00:05:00</td>\n",
       "      <td>10296</td>\n",
       "      <td>2013-12-17 11:18:00</td>\n",
       "      <td>553</td>\n",
       "      <td>Regent's Row , Haggerston</td>\n",
       "      <td>2013-12-17 11:13:00</td>\n",
       "      <td>717.0</td>\n",
       "      <td>Dunston Road , Haggerston</td>\n",
       "      <td>../bikes/14. Journey Data Extract 08Dec13-04Ja...</td>\n",
       "    </tr>\n",
       "    <tr>\n",
       "      <th>...</th>\n",
       "      <td>...</td>\n",
       "      <td>...</td>\n",
       "      <td>...</td>\n",
       "      <td>...</td>\n",
       "      <td>...</td>\n",
       "      <td>...</td>\n",
       "      <td>...</td>\n",
       "      <td>...</td>\n",
       "      <td>...</td>\n",
       "    </tr>\n",
       "    <tr>\n",
       "      <th>115953249</th>\n",
       "      <td>0 days 00:07:00</td>\n",
       "      <td>10296</td>\n",
       "      <td>2022-01-01 11:56:00</td>\n",
       "      <td>345</td>\n",
       "      <td>Flood Street, Chelsea</td>\n",
       "      <td>2022-01-01 11:49:00</td>\n",
       "      <td>757.0</td>\n",
       "      <td>Harcourt Terrace, West Brompton</td>\n",
       "      <td>../bikes/298JourneyDataExtract29Dec2021-04Jan2...</td>\n",
       "    </tr>\n",
       "    <tr>\n",
       "      <th>115966882</th>\n",
       "      <td>0 days 00:01:00</td>\n",
       "      <td>10296</td>\n",
       "      <td>2022-01-01 21:52:00</td>\n",
       "      <td>345</td>\n",
       "      <td>Flood Street, Chelsea</td>\n",
       "      <td>2022-01-01 21:51:00</td>\n",
       "      <td>345.0</td>\n",
       "      <td>Flood Street, Chelsea</td>\n",
       "      <td>../bikes/298JourneyDataExtract29Dec2021-04Jan2...</td>\n",
       "    </tr>\n",
       "    <tr>\n",
       "      <th>115967025</th>\n",
       "      <td>0 days 00:31:00</td>\n",
       "      <td>10296</td>\n",
       "      <td>2022-01-01 22:36:00</td>\n",
       "      <td>655</td>\n",
       "      <td>Crabtree Lane, Fulham</td>\n",
       "      <td>2022-01-01 22:05:00</td>\n",
       "      <td>345.0</td>\n",
       "      <td>Flood Street, Chelsea</td>\n",
       "      <td>../bikes/298JourneyDataExtract29Dec2021-04Jan2...</td>\n",
       "    </tr>\n",
       "    <tr>\n",
       "      <th>115969011</th>\n",
       "      <td>0 days 00:19:00</td>\n",
       "      <td>10296</td>\n",
       "      <td>2022-01-02 04:23:00</td>\n",
       "      <td>755</td>\n",
       "      <td>The Vale, Chelsea</td>\n",
       "      <td>2022-01-02 04:04:00</td>\n",
       "      <td>655.0</td>\n",
       "      <td>Crabtree Lane, Fulham</td>\n",
       "      <td>../bikes/298JourneyDataExtract29Dec2021-04Jan2...</td>\n",
       "    </tr>\n",
       "    <tr>\n",
       "      <th>115972040</th>\n",
       "      <td>0 days 00:11:00</td>\n",
       "      <td>10296</td>\n",
       "      <td>2022-01-02 11:53:00</td>\n",
       "      <td>103</td>\n",
       "      <td>Vicarage Gate, Kensington</td>\n",
       "      <td>2022-01-02 11:42:00</td>\n",
       "      <td>755.0</td>\n",
       "      <td>The Vale, Chelsea</td>\n",
       "      <td>../bikes/298JourneyDataExtract29Dec2021-04Jan2...</td>\n",
       "    </tr>\n",
       "  </tbody>\n",
       "</table>\n",
       "<p>6567 rows × 9 columns</p>\n",
       "</div>"
      ],
      "text/plain": [
       "                 duration  bike_id            end_date  end_station_id  \\\n",
       "rental_id                                                                \n",
       "29502441  0 days 00:05:00    10296 2013-12-17 08:42:00              73   \n",
       "29504497  0 days 00:07:00    10296 2013-12-17 09:31:00             135   \n",
       "29504753  0 days 00:05:00    10296 2013-12-17 09:40:00              66   \n",
       "29505281  0 days 00:15:00    10296 2013-12-17 10:20:00             717   \n",
       "29506025  0 days 00:05:00    10296 2013-12-17 11:18:00             553   \n",
       "...                   ...      ...                 ...             ...   \n",
       "115953249 0 days 00:07:00    10296 2022-01-01 11:56:00             345   \n",
       "115966882 0 days 00:01:00    10296 2022-01-01 21:52:00             345   \n",
       "115967025 0 days 00:31:00    10296 2022-01-01 22:36:00             655   \n",
       "115969011 0 days 00:19:00    10296 2022-01-02 04:23:00             755   \n",
       "115972040 0 days 00:11:00    10296 2022-01-02 11:53:00             103   \n",
       "\n",
       "                         end_station_name          start_date  \\\n",
       "rental_id                                                       \n",
       "29502441   Old Street Station, St. Luke's 2013-12-17 08:37:00   \n",
       "29504497   Clerkenwell Green, Clerkenwell 2013-12-17 09:24:00   \n",
       "29504753          Holborn Circus, Holborn 2013-12-17 09:35:00   \n",
       "29505281        Dunston Road , Haggerston 2013-12-17 10:05:00   \n",
       "29506025       Regent's Row , Haggerston  2013-12-17 11:13:00   \n",
       "...                                   ...                 ...   \n",
       "115953249           Flood Street, Chelsea 2022-01-01 11:49:00   \n",
       "115966882           Flood Street, Chelsea 2022-01-01 21:51:00   \n",
       "115967025           Crabtree Lane, Fulham 2022-01-01 22:05:00   \n",
       "115969011               The Vale, Chelsea 2022-01-02 04:04:00   \n",
       "115972040       Vicarage Gate, Kensington 2022-01-02 11:42:00   \n",
       "\n",
       "          start_station_id               start_station_name  \\\n",
       "rental_id                                                     \n",
       "29502441             351.0        Macclesfield Rd, St Lukes   \n",
       "29504497              73.0   Old Street Station, St. Luke's   \n",
       "29504753             135.0   Clerkenwell Green, Clerkenwell   \n",
       "29505281             593.0   Northdown Street, King's Cross   \n",
       "29506025             717.0        Dunston Road , Haggerston   \n",
       "...                    ...                              ...   \n",
       "115953249            757.0  Harcourt Terrace, West Brompton   \n",
       "115966882            345.0            Flood Street, Chelsea   \n",
       "115967025            345.0            Flood Street, Chelsea   \n",
       "115969011            655.0            Crabtree Lane, Fulham   \n",
       "115972040            755.0                The Vale, Chelsea   \n",
       "\n",
       "                                                    filename  \n",
       "rental_id                                                     \n",
       "29502441   ../bikes/14. Journey Data Extract 08Dec13-04Ja...  \n",
       "29504497   ../bikes/14. Journey Data Extract 08Dec13-04Ja...  \n",
       "29504753   ../bikes/14. Journey Data Extract 08Dec13-04Ja...  \n",
       "29505281   ../bikes/14. Journey Data Extract 08Dec13-04Ja...  \n",
       "29506025   ../bikes/14. Journey Data Extract 08Dec13-04Ja...  \n",
       "...                                                      ...  \n",
       "115953249  ../bikes/298JourneyDataExtract29Dec2021-04Jan2...  \n",
       "115966882  ../bikes/298JourneyDataExtract29Dec2021-04Jan2...  \n",
       "115967025  ../bikes/298JourneyDataExtract29Dec2021-04Jan2...  \n",
       "115969011  ../bikes/298JourneyDataExtract29Dec2021-04Jan2...  \n",
       "115972040  ../bikes/298JourneyDataExtract29Dec2021-04Jan2...  \n",
       "\n",
       "[6567 rows x 9 columns]"
      ]
     },
     "execution_count": 122,
     "metadata": {},
     "output_type": "execute_result"
    }
   ],
   "source": [
    "boris.iloc"
   ]
  },
  {
   "cell_type": "code",
   "execution_count": null,
   "id": "46de5272",
   "metadata": {},
   "outputs": [],
   "source": []
  }
 ],
 "metadata": {
  "kernelspec": {
   "display_name": "pfeffel",
   "language": "python",
   "name": "pfeffel"
  },
  "language_info": {
   "codemirror_mode": {
    "name": "ipython",
    "version": 3
   },
   "file_extension": ".py",
   "mimetype": "text/x-python",
   "name": "python",
   "nbconvert_exporter": "python",
   "pygments_lexer": "ipython3",
   "version": "3.9.5"
  }
 },
 "nbformat": 4,
 "nbformat_minor": 5
}
