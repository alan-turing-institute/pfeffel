{
 "cells": [
  {
   "cell_type": "markdown",
   "id": "c1925ec7",
   "metadata": {},
   "source": [
    "# Pfeffel Processing for Boris Bikes"
   ]
  },
  {
   "cell_type": "code",
   "execution_count": 1,
   "id": "aa090cad",
   "metadata": {},
   "outputs": [],
   "source": [
    "import datetime\n",
    "\n",
    "import h3 # uber geo package\n",
    "import pandas as pd\n",
    "import seaborn as sns\n",
    "import numpy as np\n",
    "import matplotlib\n",
    "\n",
    "from tqdm.auto import tqdm"
   ]
  },
  {
   "cell_type": "code",
   "execution_count": 2,
   "id": "44b18eec",
   "metadata": {},
   "outputs": [],
   "source": [
    "sns.set_theme()\n",
    "tqdm.pandas()"
   ]
  },
  {
   "cell_type": "markdown",
   "id": "14b0733a",
   "metadata": {},
   "source": [
    "TODO: this needs doesn't persist in initial notebook run and has to be run again separately and charts redrawn :( - fix"
   ]
  },
  {
   "cell_type": "code",
   "execution_count": 45,
   "id": "889dc31f",
   "metadata": {},
   "outputs": [],
   "source": [
    "matplotlib.rcParams['figure.figsize'] = (20, 10)"
   ]
  },
  {
   "cell_type": "markdown",
   "id": "3b916422",
   "metadata": {},
   "source": [
    "# load"
   ]
  },
  {
   "cell_type": "markdown",
   "id": "2abbdd44",
   "metadata": {},
   "source": [
    "load reference data for bike station locations"
   ]
  },
  {
   "cell_type": "code",
   "execution_count": 4,
   "id": "bb95fbb2",
   "metadata": {},
   "outputs": [],
   "source": [
    "# TODO update\n",
    "RAW = \"/Users/jbishop/Downloads/cleaned_data_20220612_1302.pickle\"\n",
    "\n",
    "LOCATION_REF = \"./data/stations_loc.json\""
   ]
  },
  {
   "cell_type": "code",
   "execution_count": 5,
   "id": "3a4158f8",
   "metadata": {},
   "outputs": [],
   "source": [
    "station_locations_df = pd.read_json(LOCATION_REF).T"
   ]
  },
  {
   "cell_type": "markdown",
   "id": "0eec496c",
   "metadata": {},
   "source": [
    "main data, load with dask"
   ]
  },
  {
   "cell_type": "code",
   "execution_count": 6,
   "id": "d23e5373",
   "metadata": {},
   "outputs": [],
   "source": [
    "# load raw data\n",
    "df = pd.read_pickle(RAW)"
   ]
  },
  {
   "cell_type": "markdown",
   "id": "51589755",
   "metadata": {},
   "source": [
    "about 100M rows"
   ]
  },
  {
   "cell_type": "code",
   "execution_count": 7,
   "id": "fdb1ead5",
   "metadata": {},
   "outputs": [
    {
     "data": {
      "text/plain": [
       "99448614"
      ]
     },
     "execution_count": 7,
     "metadata": {},
     "output_type": "execute_result"
    }
   ],
   "source": [
    "# num rows\n",
    "len(df)"
   ]
  },
  {
   "cell_type": "markdown",
   "id": "55ab7ce9",
   "metadata": {},
   "source": [
    "some cleaning of bad dates"
   ]
  },
  {
   "cell_type": "code",
   "execution_count": 8,
   "id": "81bbf851",
   "metadata": {},
   "outputs": [],
   "source": [
    "EARLIEST_DATE = datetime.datetime(2010, 1, 1)"
   ]
  },
  {
   "cell_type": "code",
   "execution_count": 9,
   "id": "96a429ea",
   "metadata": {},
   "outputs": [
    {
     "name": "stdout",
     "output_type": "stream",
     "text": [
      "CPU times: user 42.8 s, sys: 12.4 s, total: 55.1 s\n",
      "Wall time: 55.2 s\n"
     ]
    }
   ],
   "source": [
    "%%time\n",
    "# filter out of range dates\n",
    "df = df[df[\"start_date\"] > EARLIEST_DATE]\n",
    "# allow NA for end dates\n",
    "df = df[(df[\"end_date\"] > EARLIEST_DATE) | df[\"end_date\"].isna()]\n",
    "\n",
    "# also drop entries where start date before end date\n",
    "df = df[df[\"start_date\"] < df[\"end_date\"]]\n",
    "\n",
    "# recalc duration\n",
    "df[\"duration\"] = df[\"end_date\"]  - df[\"start_date\"] "
   ]
  },
  {
   "cell_type": "markdown",
   "id": "432bffb0",
   "metadata": {},
   "source": [
    "we've lost a few!"
   ]
  },
  {
   "cell_type": "code",
   "execution_count": 10,
   "id": "d9ff0c09",
   "metadata": {},
   "outputs": [
    {
     "data": {
      "text/plain": [
       "98907750"
      ]
     },
     "execution_count": 10,
     "metadata": {},
     "output_type": "execute_result"
    }
   ],
   "source": [
    "len(df)"
   ]
  },
  {
   "cell_type": "markdown",
   "id": "facff26f",
   "metadata": {},
   "source": [
    "# Basic stats"
   ]
  },
  {
   "cell_type": "code",
   "execution_count": 11,
   "id": "d09007d9",
   "metadata": {},
   "outputs": [
    {
     "name": "stdout",
     "output_type": "stream",
     "text": [
      "CPU times: user 6.94 s, sys: 880 ms, total: 7.82 s\n",
      "Wall time: 7.8 s\n"
     ]
    },
    {
     "data": {
      "text/plain": [
       "21149"
      ]
     },
     "execution_count": 11,
     "metadata": {},
     "output_type": "execute_result"
    }
   ],
   "source": [
    "%%time\n",
    "# how many bikes\n",
    "df[\"bike_id\"].nunique()"
   ]
  },
  {
   "cell_type": "code",
   "execution_count": 12,
   "id": "ca027137",
   "metadata": {},
   "outputs": [],
   "source": [
    "bike_groups = df.groupby(\"bike_id\")"
   ]
  },
  {
   "cell_type": "code",
   "execution_count": 13,
   "id": "534b1d46",
   "metadata": {},
   "outputs": [
    {
     "name": "stdout",
     "output_type": "stream",
     "text": [
      "\n",
      "bike with most trips: 8875\n",
      "did 10197 trips\n",
      "\n",
      "CPU times: user 36.3 s, sys: 507 ms, total: 36.8 s\n",
      "Wall time: 36.7 s\n"
     ]
    }
   ],
   "source": [
    "%%time\n",
    "# bike with the most trips\n",
    "group_counts = bike_groups.count()[\"filename\"] # pick abritrary column (without nulls) to get counts\n",
    "b_id = group_counts.idxmax()\n",
    "n_trips = group_counts.loc[b_id]\n",
    "\n",
    "print(f\"\"\"\n",
    "bike with most trips: {b_id}\n",
    "did {n_trips} trips\n",
    "\"\"\")"
   ]
  },
  {
   "cell_type": "code",
   "execution_count": 14,
   "id": "f623804d",
   "metadata": {},
   "outputs": [
    {
     "name": "stdout",
     "output_type": "stream",
     "text": [
      "\n",
      "bike with longest sum duration of trips: 2143\n",
      "total of 234 days 19:13:00 seconds\n",
      "\n",
      "CPU times: user 907 ms, sys: 171 ms, total: 1.08 s\n",
      "Wall time: 1.08 s\n"
     ]
    }
   ],
   "source": [
    "%%time\n",
    "# bike with the longest trips\n",
    "group_sums = bike_groups[\"duration\"].sum()\n",
    "b_id = group_sums.idxmax()\n",
    "d_sum = group_sums.loc[b_id]\n",
    "\n",
    "\n",
    "print(f\"\"\"\n",
    "bike with longest sum duration of trips: {b_id}\n",
    "total of {d_sum} seconds\n",
    "\"\"\")"
   ]
  },
  {
   "cell_type": "markdown",
   "id": "10a98ad9",
   "metadata": {},
   "source": [
    "how long are trips? (excluding outliers)"
   ]
  },
  {
   "cell_type": "code",
   "execution_count": 46,
   "id": "a66d3e9e",
   "metadata": {},
   "outputs": [
    {
     "data": {
      "text/plain": [
       "<AxesSubplot:>"
      ]
     },
     "execution_count": 46,
     "metadata": {},
     "output_type": "execute_result"
    },
    {
     "data": {
      "image/png": "[encoded data removed]",
      "text/plain": [
       "<Figure size 1440x720 with 1 Axes>"
      ]
     },
     "metadata": {
      "needs_background": "light"
     },
     "output_type": "display_data"
    }
   ],
   "source": [
    "df[df[\"duration\"].dt.seconds < 20000][\"duration\"].dt.seconds.hist(bins=50)"
   ]
  },
  {
   "cell_type": "markdown",
   "id": "997a90f2",
   "metadata": {},
   "source": [
    "## Long-lived bikes"
   ]
  },
  {
   "cell_type": "code",
   "execution_count": 16,
   "id": "18fa4ac4",
   "metadata": {},
   "outputs": [
    {
     "name": "stdout",
     "output_type": "stream",
     "text": [
      "CPU times: user 3.44 s, sys: 22.2 ms, total: 3.46 s\n",
      "Wall time: 3.46 s\n"
     ]
    }
   ],
   "source": [
    "%%time\n",
    "trips_per_bike = bike_groups[\"filename\"].count()"
   ]
  },
  {
   "cell_type": "code",
   "execution_count": 17,
   "id": "5b5a6976",
   "metadata": {},
   "outputs": [
    {
     "name": "stdout",
     "output_type": "stream",
     "text": [
      "CPU times: user 372 ms, sys: 1.42 ms, total: 373 ms\n",
      "Wall time: 371 ms\n"
     ]
    }
   ],
   "source": [
    "%%time\n",
    "# relies on time ordering of df via rental_id\n",
    "bike_start = bike_groups[\"start_date\"].first()"
   ]
  },
  {
   "cell_type": "code",
   "execution_count": 18,
   "id": "472d314d",
   "metadata": {},
   "outputs": [
    {
     "name": "stdout",
     "output_type": "stream",
     "text": [
      "CPU times: user 499 ms, sys: 1.3 ms, total: 501 ms\n",
      "Wall time: 499 ms\n"
     ]
    }
   ],
   "source": [
    "%%time\n",
    "# relies on time ordering of df via rental_id\n",
    "bike_end = bike_groups[\"end_date\"].last()"
   ]
  },
  {
   "cell_type": "code",
   "execution_count": 19,
   "id": "4e2ae56d",
   "metadata": {},
   "outputs": [
    {
     "name": "stdout",
     "output_type": "stream",
     "text": [
      "CPU times: user 1.6 ms, sys: 1.06 ms, total: 2.66 ms\n",
      "Wall time: 1.79 ms\n"
     ]
    }
   ],
   "source": [
    "%%time \n",
    "bike_lifetime = bike_end - bike_start"
   ]
  },
  {
   "cell_type": "markdown",
   "id": "9ba31d1f",
   "metadata": {},
   "source": [
    "how long is the lifetime of a bike? (in days)"
   ]
  },
  {
   "cell_type": "code",
   "execution_count": 47,
   "id": "d14e4920",
   "metadata": {},
   "outputs": [
    {
     "data": {
      "text/plain": [
       "<AxesSubplot:>"
      ]
     },
     "execution_count": 47,
     "metadata": {},
     "output_type": "execute_result"
    },
    {
     "data": {
      "image/png": "[encoded data removed]",
      "text/plain": [
       "<Figure size 1440x720 with 1 Axes>"
      ]
     },
     "metadata": {
      "needs_background": "light"
     },
     "output_type": "display_data"
    }
   ],
   "source": [
    "bike_lifetime.dt.days.hist(bins=50)"
   ]
  },
  {
   "cell_type": "code",
   "execution_count": 21,
   "id": "d1d0890d",
   "metadata": {},
   "outputs": [
    {
     "name": "stdout",
     "output_type": "stream",
     "text": [
      "CPU times: user 1 s, sys: 175 ms, total: 1.18 s\n",
      "Wall time: 1.18 s\n"
     ]
    }
   ],
   "source": [
    "%%time\n",
    "duration_sums = bike_groups[\"duration\"].sum()"
   ]
  },
  {
   "cell_type": "code",
   "execution_count": 22,
   "id": "b612153a",
   "metadata": {},
   "outputs": [
    {
     "name": "stdout",
     "output_type": "stream",
     "text": [
      "CPU times: user 561 µs, sys: 255 µs, total: 816 µs\n",
      "Wall time: 594 µs\n"
     ]
    }
   ],
   "source": [
    "%%time\n",
    "bike_utilisation = duration_sums / bike_lifetime"
   ]
  },
  {
   "cell_type": "markdown",
   "id": "c7346daa",
   "metadata": {},
   "source": [
    "what is the average utilisation of a bike? (total ride duration / lifetime)"
   ]
  },
  {
   "cell_type": "code",
   "execution_count": 23,
   "id": "464fc90c",
   "metadata": {},
   "outputs": [
    {
     "data": {
      "text/plain": [
       "0.041590354670607635"
      ]
     },
     "execution_count": 23,
     "metadata": {},
     "output_type": "execute_result"
    }
   ],
   "source": [
    "bike_utilisation.mean()"
   ]
  },
  {
   "cell_type": "code",
   "execution_count": 48,
   "id": "3b7e2194",
   "metadata": {},
   "outputs": [
    {
     "data": {
      "text/plain": [
       "<AxesSubplot:>"
      ]
     },
     "execution_count": 48,
     "metadata": {},
     "output_type": "execute_result"
    },
    {
     "data": {
      "image/png": "[encoded data removed]",
      "text/plain": [
       "<Figure size 1440x720 with 1 Axes>"
      ]
     },
     "metadata": {
      "needs_background": "light"
     },
     "output_type": "display_data"
    }
   ],
   "source": [
    "bike_utilisation.hist(bins=100)"
   ]
  },
  {
   "cell_type": "markdown",
   "id": "d31542cd",
   "metadata": {},
   "source": [
    "### per month\n",
    "\n",
    "- how many bikes are \"alive\" by month?\n",
    "\n",
    "- how many stations are \"alive\" by month?\n",
    "\n",
    "- what is bike utilisation by month?"
   ]
  },
  {
   "cell_type": "code",
   "execution_count": 25,
   "id": "15e9e6dd",
   "metadata": {},
   "outputs": [],
   "source": [
    "# don't want to incude first and last months as may be incompelte, use in filter later\n",
    "incomplete_months = df[\"start_date\"].iloc[[0, -1]].dt.to_period(\"M\")\n",
    "\n",
    "\n",
    "# create a complete monthly index that covers ALL months in period \n",
    "complete_monthly_index = pd.date_range(start=df[\"start_date\"].iloc[0], end=df[\"end_date\"].iloc[-1], freq=\"M\").to_period(\"M\")\n",
    "# remove incomplete months\n",
    "complete_monthly_index = complete_monthly_index.delete(complete_monthly_index.isin(incomplete_months))"
   ]
  },
  {
   "cell_type": "code",
   "execution_count": 26,
   "id": "e5cc38df",
   "metadata": {},
   "outputs": [],
   "source": [
    "# TODO should stations count as allive for next month rather than current?\n",
    "def calc_alive_per_month(starts: pd.Series, ends: pd.Series, incomplete_months: pd.Series, complete_monthly_index: pd.PeriodIndex):\n",
    "    starts_per_month = starts.dt.to_period(\"M\").value_counts()\n",
    "    ends_per_month = ends.dt.to_period(\"M\").value_counts()\n",
    "\n",
    "    counts_df = complete_monthly_index.to_frame(name=\"foo\").join(starts_per_month).join(ends_per_month).sort_index().fillna(0)\n",
    "    # ending items should only be counted at the start of next month, so shift\n",
    "    counts_df[\"end_date\"] = counts_df[\"end_date\"].shift(fill_value=0)\n",
    "\n",
    "    alive_per_month = counts_df[\"start_date\"].cumsum() - counts_df[\"end_date\"].cumsum()\n",
    "    \n",
    "    return alive_per_month[~alive_per_month.index.isin(incomplete_months)]"
   ]
  },
  {
   "cell_type": "code",
   "execution_count": 27,
   "id": "a57e25f3",
   "metadata": {},
   "outputs": [
    {
     "name": "stdout",
     "output_type": "stream",
     "text": [
      "CPU times: user 8.52 ms, sys: 1.93 ms, total: 10.5 ms\n",
      "Wall time: 12.7 ms\n"
     ]
    }
   ],
   "source": [
    "%%time\n",
    "\n",
    "alive_bikes_per_month = calc_alive_per_month(starts=bike_start, ends=bike_end, incomplete_months=incomplete_months, complete_monthly_index=complete_monthly_index)"
   ]
  },
  {
   "cell_type": "code",
   "execution_count": 28,
   "id": "14b5027b",
   "metadata": {},
   "outputs": [
    {
     "name": "stdout",
     "output_type": "stream",
     "text": [
      "CPU times: user 4.72 s, sys: 1.06 s, total: 5.78 s\n",
      "Wall time: 5.78 s\n"
     ]
    }
   ],
   "source": [
    "%%time\n",
    "duration_sums_per_month = df[[\"duration\"]].groupby(df[\"start_date\"].dt.to_period(\"M\"))[\"duration\"].sum()\n",
    "\n",
    "duration_sums_per_month = duration_sums_per_month.to_frame()\n",
    "duration_sums_per_month[\"max_possible_duration\"] = duration_sums_per_month.index.map(lambda x: x.end_time - x.start_time)\n",
    "\n",
    "utilisation_per_month = duration_sums_per_month[\"duration\"] / duration_sums_per_month[\"max_possible_duration\"] / alive_bikes_per_month\n",
    "\n",
    "# remove incomplelte months\n",
    "utilisation_per_month = utilisation_per_month[~utilisation_per_month.index.isin(incomplete_months)]"
   ]
  },
  {
   "cell_type": "code",
   "execution_count": 29,
   "id": "bf1f3d6c",
   "metadata": {},
   "outputs": [
    {
     "name": "stdout",
     "output_type": "stream",
     "text": [
      "CPU times: user 5.58 s, sys: 325 ms, total: 5.91 s\n",
      "Wall time: 5.89 s\n"
     ]
    }
   ],
   "source": [
    "%%time\n",
    "\n",
    "station_groups = df.groupby(\"start_station_id\")\n",
    "\n",
    "# relies on time ordering of df via rental_id\n",
    "station_start = station_groups[\"start_date\"].first()\n",
    "station_end = station_groups[\"end_date\"].last()"
   ]
  },
  {
   "cell_type": "code",
   "execution_count": 30,
   "id": "cdfc6224",
   "metadata": {},
   "outputs": [],
   "source": [
    "alive_stations_per_month = calc_alive_per_month(starts=station_start, ends=station_end,\n",
    "                                                incomplete_months=incomplete_months, complete_monthly_index=complete_monthly_index)"
   ]
  },
  {
   "cell_type": "code",
   "execution_count": 31,
   "id": "7f2c1faf",
   "metadata": {},
   "outputs": [],
   "source": [
    "# forward fill gaps\n",
    "stats_df = complete_monthly_index.to_frame(name=\"date\")\\\n",
    "    .join(alive_bikes_per_month.rename(\"alive_bikes\"))\\\n",
    "    .join(alive_stations_per_month.rename(\"alive_stations\"))\\\n",
    "    .join(utilisation_per_month.rename(\"utilisation\"))\\\n",
    "    .fillna(method=\"ffill\") "
   ]
  },
  {
   "cell_type": "code",
   "execution_count": 49,
   "id": "1c3d2ab2",
   "metadata": {},
   "outputs": [
    {
     "data": {
      "text/plain": [
       "array([<AxesSubplot:>, <AxesSubplot:>, <AxesSubplot:>], dtype=object)"
      ]
     },
     "execution_count": 49,
     "metadata": {},
     "output_type": "execute_result"
    },
    {
     "data": {
      "image/png": "[encoded data removed]",
      "text/plain": [
       "<Figure size 1440x720 with 3 Axes>"
      ]
     },
     "metadata": {
      "needs_background": "light"
     },
     "output_type": "display_data"
    }
   ],
   "source": [
    "stats_df.plot(subplots=True)"
   ]
  },
  {
   "cell_type": "code",
   "execution_count": 50,
   "id": "48f8386d",
   "metadata": {},
   "outputs": [
    {
     "data": {
      "text/plain": [
       "<AxesSubplot:>"
      ]
     },
     "execution_count": 50,
     "metadata": {},
     "output_type": "execute_result"
    },
    {
     "data": {
      "image/png": "[encoded data removed]",
      "text/plain": [
       "<Figure size 1440x720 with 1 Axes>"
      ]
     },
     "metadata": {
      "needs_background": "light"
     },
     "output_type": "display_data"
    }
   ],
   "source": [
    "stats_df[\"utilisation\"][1:].plot()"
   ]
  },
  {
   "cell_type": "markdown",
   "id": "0b09181b",
   "metadata": {},
   "source": [
    "whats happening to the number of active stations in 2012?"
   ]
  },
  {
   "cell_type": "code",
   "execution_count": 34,
   "id": "8aa9a5af",
   "metadata": {
    "jupyter": {
     "source_hidden": true
    }
   },
   "outputs": [
    {
     "data": {
      "text/plain": [
       "(568, 566)"
      ]
     },
     "execution_count": 34,
     "metadata": {},
     "output_type": "execute_result"
    }
   ],
   "source": [
    "stats_df_2012 = stats_df[(stats_df.index.to_timestamp() >= datetime.datetime(year=2012, month=1, day=1)) &\n",
    "        (stats_df.index.to_timestamp() < datetime.datetime(year=2013, month=1, day=1))]\n",
    "\n",
    "\n",
    "# increase in April and Decrease in Jul\n",
    "\n",
    "may_2012_new_stations = station_start[(station_start >= datetime.datetime(year=2012, month=5, day=1)) &\n",
    "             (station_start < datetime.datetime(year=2012, month=6, day=1))]\n",
    "\n",
    "# note these will actually be last used in prev month i.e. june\n",
    "jul_2012_removed_stations = station_end[(station_end >= datetime.datetime(year=2012, month=6, day=1)) &\n",
    "             (station_end < datetime.datetime(year=2012, month=7, day=1))]\n",
    "\n",
    "len(may_2012_new_stations), len(jul_2012_removed_stations)"
   ]
  },
  {
   "cell_type": "markdown",
   "id": "99aad969",
   "metadata": {},
   "source": [
    "## Station Areas"
   ]
  },
  {
   "cell_type": "code",
   "execution_count": 35,
   "id": "c7609e89",
   "metadata": {},
   "outputs": [
    {
     "name": "stdout",
     "output_type": "stream",
     "text": [
      "CPU times: user 54.6 s, sys: 10.4 s, total: 1min 5s\n",
      "Wall time: 1min 5s\n"
     ]
    }
   ],
   "source": [
    "%%time\n",
    "all_stations = pd.concat([\n",
    "    df[[\"start_station_id\", \"start_station_name\"]].rename(columns={\"start_station_id\": \"id\", \"start_station_name\": \"name\"}),\n",
    "    df[[\"end_station_id\", \"end_station_name\"]].rename(columns={\"end_station_id\": \"id\", \"end_station_name\": \"name\"})\n",
    "]).convert_dtypes().set_index(keys=\"id\").drop_duplicates().dropna()\n",
    "\n",
    "# filter to str names only\n",
    "all_stations = all_stations[all_stations[\"name\"].map(lambda x: isinstance(x, str))]"
   ]
  },
  {
   "cell_type": "markdown",
   "id": "df78e1d2",
   "metadata": {},
   "source": [
    "have a look at station name pieces, is the part after the comma an \"area\"?"
   ]
  },
  {
   "cell_type": "code",
   "execution_count": 36,
   "id": "6fc5b14d",
   "metadata": {},
   "outputs": [
    {
     "data": {
      "application/vnd.jupyter.widget-view+json": {
       "model_id": "1313e70fd665427d93a06783f2bc1063",
       "version_major": 2,
       "version_minor": 0
      },
      "text/plain": [
       "  0%|          | 0/1629 [00:00<?, ?it/s]"
      ]
     },
     "metadata": {},
     "output_type": "display_data"
    },
    {
     "data": {
      "application/vnd.jupyter.widget-view+json": {
       "model_id": "5515675eac554b1d90e2821c9f28c360",
       "version_major": 2,
       "version_minor": 0
      },
      "text/plain": [
       "  0%|          | 0/1629 [00:00<?, ?it/s]"
      ]
     },
     "metadata": {},
     "output_type": "display_data"
    },
    {
     "data": {
      "application/vnd.jupyter.widget-view+json": {
       "model_id": "7de334b678c0497c8c989d0c8a1c0ad9",
       "version_major": 2,
       "version_minor": 0
      },
      "text/plain": [
       "  0%|          | 0/1629 [00:00<?, ?it/s]"
      ]
     },
     "metadata": {},
     "output_type": "display_data"
    }
   ],
   "source": [
    "station_name_pieces = all_stations[\"name\"].progress_map(lambda name: name.split(\",\"))\n",
    "\n",
    "station_single_pieces = station_name_pieces[station_name_pieces.progress_map(len) <= 1]\n",
    "station_areas =  station_name_pieces.progress_map(lambda name_pieces: name_pieces[1] if len(name_pieces) > 1 else None).dropna()"
   ]
  },
  {
   "cell_type": "markdown",
   "id": "3ee15302",
   "metadata": {},
   "source": [
    "what are the items with only one \"piece\" i.e. no comma"
   ]
  },
  {
   "cell_type": "code",
   "execution_count": 37,
   "id": "06976655",
   "metadata": {},
   "outputs": [
    {
     "data": {
      "text/plain": [
       "id\n",
       "98.0                  [Hampstead Road: Euston]\n",
       "216.0    [Old Brompton Road: South Kensington]\n",
       "23.0                [Red Lion Square: Holborn]\n",
       "201.0              [Dorset Square: Marylebone]\n",
       "224.0                  [Whiteley's: Bayswater]\n",
       "Name: name, dtype: object"
      ]
     },
     "execution_count": 37,
     "metadata": {},
     "output_type": "execute_result"
    }
   ],
   "source": [
    "station_single_pieces.head()"
   ]
  },
  {
   "cell_type": "code",
   "execution_count": 38,
   "id": "cc114ed1",
   "metadata": {},
   "outputs": [
    {
     "data": {
      "text/plain": [
       " Marylebone          28\n",
       " Battersea           23\n",
       " Westminster         23\n",
       " Holborn             21\n",
       " Fulham              20\n",
       "                     ..\n",
       " Waterloo             1\n",
       "Shepherd's Bush       1\n",
       " Parson's Green       1\n",
       " De Beauvoir Town     1\n",
       " Wandswoth Road       1\n",
       "Name: name, Length: 146, dtype: int64"
      ]
     },
     "execution_count": 38,
     "metadata": {},
     "output_type": "execute_result"
    }
   ],
   "source": [
    "station_areas.value_counts()"
   ]
  },
  {
   "cell_type": "markdown",
   "id": "596d6e75",
   "metadata": {},
   "source": [
    "# chains\n",
    "\n",
    "A \"chain\" is a sequence of trips for a given bike, where the start location matches the previous end location.\n",
    "\n",
    "Run for some subset only. Try long lived bikes"
   ]
  },
  {
   "cell_type": "code",
   "execution_count": 39,
   "id": "12623156",
   "metadata": {},
   "outputs": [],
   "source": [
    "top_ten_lived_bike_ids = bike_lifetime.sort_values()[-10:].index.values"
   ]
  },
  {
   "cell_type": "code",
   "execution_count": 40,
   "id": "87d4d18e",
   "metadata": {},
   "outputs": [],
   "source": [
    "top_ten_bike_subset = df[df[\"bike_id\"].isin(top_ten_lived_bike_ids)].copy()"
   ]
  },
  {
   "cell_type": "code",
   "execution_count": 41,
   "id": "eb192311",
   "metadata": {},
   "outputs": [],
   "source": [
    "# NOTE - how to handle workshops?\n",
    "# what if workshop is start ?\n",
    "# what if workshop is end ?\n",
    "def add_chains(bike_id: int, bike_group: pd.DataFrame, df: pd.DataFrame) -> None:\n",
    "    \"\"\" note: adds to dataframe as side effect \"\"\"\n",
    "\n",
    "    # note fillna for end station to allow for comparison to NA\n",
    "    breaks = bike_group[bike_group[\"start_station_id\"] != bike_group.shift()[\"end_station_id\"].fillna(-1)]\n",
    "    break_indices = breaks.index.values\n",
    "\n",
    "    chains = list()\n",
    "    for i, (start, end) in enumerate(zip([None, *break_indices], [*break_indices, None])):\n",
    "        chain = bike_group.loc[start:end]\n",
    "        chain_id = f\"{bike_id}_{i}\"\n",
    "        chains.append(pd.Series(chain_id, index=chain.index))\n",
    "    return pd.concat(chains)"
   ]
  },
  {
   "cell_type": "code",
   "execution_count": 42,
   "id": "fa6212db",
   "metadata": {},
   "outputs": [
    {
     "data": {
      "application/vnd.jupyter.widget-view+json": {
       "model_id": "1823b5d0a8554754b84a356adce19199",
       "version_major": 2,
       "version_minor": 0
      },
      "text/plain": [
       "  0%|          | 0/10 [00:00<?, ?it/s]"
      ]
     },
     "metadata": {},
     "output_type": "display_data"
    }
   ],
   "source": [
    "chains = list()\n",
    "for k, g in tqdm(top_ten_bike_subset.groupby(\"bike_id\")):\n",
    "    g = bike_groups.get_group(k)\n",
    "    chains.append(add_chains(bike_id=k, bike_group=g, df=df))"
   ]
  },
  {
   "cell_type": "code",
   "execution_count": 43,
   "id": "39b7914d",
   "metadata": {},
   "outputs": [],
   "source": [
    "top_ten_bike_subset = top_ten_bike_subset.join(pd.concat(chains).rename(\"chain_id\"))"
   ]
  },
  {
   "cell_type": "code",
   "execution_count": 44,
   "id": "d6759d08",
   "metadata": {},
   "outputs": [],
   "source": [
    "top_ten_bike_subset.to_pickle(\"top_ten_bikes.pickle\")"
   ]
  }
 ],
 "metadata": {
  "kernelspec": {
   "display_name": "pfeffel",
   "language": "python",
   "name": "pfeffel"
  },
  "language_info": {
   "codemirror_mode": {
    "name": "ipython",
    "version": 3
   },
   "file_extension": ".py",
   "mimetype": "text/x-python",
   "name": "python",
   "nbconvert_exporter": "python",
   "pygments_lexer": "ipython3",
   "version": "3.9.5"
  }
 },
 "nbformat": 4,
 "nbformat_minor": 5
}
