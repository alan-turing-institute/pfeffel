{
 "cells": [
  {
   "cell_type": "markdown",
   "id": "00dacb20",
   "metadata": {},
   "source": [
    "# Boris Bikes"
   ]
  },
  {
   "cell_type": "code",
   "execution_count": 8,
   "id": "5a9447d2",
   "metadata": {},
   "outputs": [],
   "source": [
    "import datetime\n",
    "\n",
    "import h3 # uber geo package\n",
    "import pandas as pd\n",
    "import seaborn as sns\n",
    "import numpy as np\n",
    "import matplotlib\n",
    "\n",
    "from tqdm.auto import tqdm"
   ]
  },
  {
   "cell_type": "code",
   "execution_count": 10,
   "id": "ea15eb76",
   "metadata": {},
   "outputs": [],
   "source": [
    "tqdm.pandas()"
   ]
  },
  {
   "cell_type": "markdown",
   "id": "b768144d",
   "metadata": {},
   "source": [
    "TODO: this needs doesn't persist in initial notebook run and has to be run again separately and charts redrawn :( - fix"
   ]
  },
  {
   "cell_type": "code",
   "execution_count": 11,
   "id": "44103ab5",
   "metadata": {},
   "outputs": [],
   "source": [
    "matplotlib.rcParams['figure.figsize'] = (20, 10)"
   ]
  },
  {
   "cell_type": "markdown",
   "id": "adfd764e",
   "metadata": {},
   "source": [
    "# Introduction\n",
    "\n",
    "Context\n"
   ]
  },
  {
   "cell_type": "markdown",
   "id": "1be735b0",
   "metadata": {},
   "source": [
    "# Data description and cleaning"
   ]
  },
  {
   "cell_type": "markdown",
   "id": "4751f8ed",
   "metadata": {},
   "source": [
    "Explain the steps for the data description."
   ]
  },
  {
   "cell_type": "markdown",
   "id": "66f260d3",
   "metadata": {},
   "source": [
    "## Load processed data "
   ]
  },
  {
   "cell_type": "markdown",
   "id": "ba177559",
   "metadata": {},
   "source": [
    "load reference data for bike station locations"
   ]
  },
  {
   "cell_type": "code",
   "execution_count": 18,
   "id": "9b68ccfb",
   "metadata": {},
   "outputs": [],
   "source": [
    "# TODO update\n",
    "RAW = \"../data/cleaned_data_20220615_1137.pickle\"\n",
    "\n",
    "LOCATION_REF = \"../data/stations_loc.json\""
   ]
  },
  {
   "cell_type": "code",
   "execution_count": 19,
   "id": "e3583ccb",
   "metadata": {},
   "outputs": [],
   "source": [
    "station_locations_df = pd.read_json(LOCATION_REF).T"
   ]
  },
  {
   "cell_type": "markdown",
   "id": "38fa5508",
   "metadata": {},
   "source": [
    "main data, load with dask"
   ]
  },
  {
   "cell_type": "code",
   "execution_count": 20,
   "id": "dd7dea34",
   "metadata": {},
   "outputs": [],
   "source": [
    "# load raw data\n",
    "df = pd.read_pickle(RAW)"
   ]
  },
  {
   "cell_type": "code",
   "execution_count": 21,
   "id": "c5074bb0",
   "metadata": {},
   "outputs": [
    {
     "data": {
      "text/plain": [
       "'/Users/crangelsmith/Projects/pfeffel/TDS'"
      ]
     },
     "execution_count": 21,
     "metadata": {},
     "output_type": "execute_result"
    }
   ],
   "source": [
    "pwd()"
   ]
  },
  {
   "cell_type": "markdown",
   "id": "9bade7d0",
   "metadata": {},
   "source": [
    "about 100M rows"
   ]
  },
  {
   "cell_type": "code",
   "execution_count": 22,
   "id": "bcbc0317",
   "metadata": {},
   "outputs": [
    {
     "data": {
      "text/plain": [
       "97656969"
      ]
     },
     "execution_count": 22,
     "metadata": {},
     "output_type": "execute_result"
    }
   ],
   "source": [
    "# num rows\n",
    "len(df)"
   ]
  },
  {
   "cell_type": "markdown",
   "id": "3268ac79",
   "metadata": {},
   "source": [
    "some cleaning of bad dates"
   ]
  },
  {
   "cell_type": "code",
   "execution_count": 23,
   "id": "7379ab5a",
   "metadata": {},
   "outputs": [],
   "source": [
    "EARLIEST_DATE = datetime.datetime(2010, 1, 1)"
   ]
  },
  {
   "cell_type": "code",
   "execution_count": 24,
   "id": "3a2f0255",
   "metadata": {},
   "outputs": [
    {
     "name": "stdout",
     "output_type": "stream",
     "text": [
      "CPU times: user 32.6 s, sys: 15.5 s, total: 48.1 s\n",
      "Wall time: 50 s\n"
     ]
    }
   ],
   "source": [
    "%%time\n",
    "# filter out of range dates\n",
    "df = df[df[\"start_date\"] > EARLIEST_DATE]\n",
    "# allow NA for end dates\n",
    "df = df[(df[\"end_date\"] > EARLIEST_DATE) | df[\"end_date\"].isna()]\n",
    "\n",
    "# also drop entries where start date before end date\n",
    "df = df[df[\"start_date\"] < df[\"end_date\"]]\n",
    "\n",
    "# recalc duration\n",
    "df[\"duration\"] = df[\"end_date\"]  - df[\"start_date\"] "
   ]
  },
  {
   "cell_type": "markdown",
   "id": "aaedfd49",
   "metadata": {},
   "source": [
    "we've lost a few!"
   ]
  },
  {
   "cell_type": "code",
   "execution_count": 25,
   "id": "2e3c5f28",
   "metadata": {},
   "outputs": [
    {
     "data": {
      "text/plain": [
       "97120201"
      ]
     },
     "execution_count": 25,
     "metadata": {},
     "output_type": "execute_result"
    }
   ],
   "source": [
    "len(df)"
   ]
  },
  {
   "cell_type": "markdown",
   "id": "5be89889",
   "metadata": {},
   "source": [
    "# Statistics on bike usage"
   ]
  },
  {
   "cell_type": "code",
   "execution_count": 26,
   "id": "a139ec5f",
   "metadata": {},
   "outputs": [
    {
     "name": "stdout",
     "output_type": "stream",
     "text": [
      "CPU times: user 5.81 s, sys: 1.12 s, total: 6.93 s\n",
      "Wall time: 6.96 s\n"
     ]
    },
    {
     "data": {
      "text/plain": [
       "21149"
      ]
     },
     "execution_count": 26,
     "metadata": {},
     "output_type": "execute_result"
    }
   ],
   "source": [
    "%%time\n",
    "# how many bikes\n",
    "df[\"bike_id\"].nunique()"
   ]
  },
  {
   "cell_type": "code",
   "execution_count": 27,
   "id": "08f3688d",
   "metadata": {},
   "outputs": [],
   "source": [
    "bike_groups = df.groupby(\"bike_id\")"
   ]
  },
  {
   "cell_type": "code",
   "execution_count": 28,
   "id": "ce5a9a98",
   "metadata": {},
   "outputs": [
    {
     "name": "stdout",
     "output_type": "stream",
     "text": [
      "\n",
      "bike with most trips: 8875\n",
      "did 10034 trips\n",
      "\n",
      "CPU times: user 17.7 s, sys: 417 ms, total: 18.1 s\n",
      "Wall time: 18.1 s\n"
     ]
    }
   ],
   "source": [
    "%%time\n",
    "# bike with the most trips\n",
    "group_counts = bike_groups.count()[\"filename\"] # pick abritrary column (without nulls) to get counts\n",
    "b_id = group_counts.idxmax()\n",
    "n_trips = group_counts.loc[b_id]\n",
    "\n",
    "print(f\"\"\"\n",
    "bike with most trips: {b_id}\n",
    "did {n_trips} trips\n",
    "\"\"\")"
   ]
  },
  {
   "cell_type": "code",
   "execution_count": 29,
   "id": "23d694c4",
   "metadata": {},
   "outputs": [
    {
     "name": "stdout",
     "output_type": "stream",
     "text": [
      "\n",
      "bike with longest sum duration of trips: 2143\n",
      "total of 215 days 05:46:00 seconds\n",
      "\n",
      "CPU times: user 602 ms, sys: 170 ms, total: 772 ms\n",
      "Wall time: 773 ms\n"
     ]
    }
   ],
   "source": [
    "%%time\n",
    "# bike with the longest trips\n",
    "group_sums = bike_groups[\"duration\"].sum()\n",
    "b_id = group_sums.idxmax()\n",
    "d_sum = group_sums.loc[b_id]\n",
    "\n",
    "\n",
    "print(f\"\"\"\n",
    "bike with longest sum duration of trips: {b_id}\n",
    "total of {d_sum} seconds\n",
    "\"\"\")"
   ]
  },
  {
   "cell_type": "markdown",
   "id": "23fe984f",
   "metadata": {},
   "source": [
    "how long are trips? (excluding outliers)"
   ]
  },
  {
   "cell_type": "code",
   "execution_count": 30,
   "id": "605e4ae8",
   "metadata": {},
   "outputs": [
    {
     "data": {
      "text/plain": [
       "<AxesSubplot:>"
      ]
     },
     "execution_count": 30,
     "metadata": {},
     "output_type": "execute_result"
    },
    {
     "data": {
      "image/png": "[encoded data removed]",
      "text/plain": [
       "<Figure size 432x288 with 1 Axes>"
      ]
     },
     "metadata": {
      "needs_background": "light"
     },
     "output_type": "display_data"
    }
   ],
   "source": [
    "df[df[\"duration\"].dt.seconds < 20000][\"duration\"].dt.seconds.hist(bins=50)"
   ]
  },
  {
   "cell_type": "markdown",
   "id": "ce7f56a1",
   "metadata": {},
   "source": [
    "## Long-lived bikes"
   ]
  },
  {
   "cell_type": "code",
   "execution_count": 31,
   "id": "774bd077",
   "metadata": {},
   "outputs": [
    {
     "name": "stdout",
     "output_type": "stream",
     "text": [
      "CPU times: user 3.66 s, sys: 234 ms, total: 3.89 s\n",
      "Wall time: 3.89 s\n"
     ]
    }
   ],
   "source": [
    "%%time\n",
    "trips_per_bike = bike_groups[\"filename\"].count()"
   ]
  },
  {
   "cell_type": "code",
   "execution_count": 32,
   "id": "5b2303ea",
   "metadata": {},
   "outputs": [
    {
     "name": "stdout",
     "output_type": "stream",
     "text": [
      "CPU times: user 257 ms, sys: 48.2 ms, total: 305 ms\n",
      "Wall time: 305 ms\n"
     ]
    }
   ],
   "source": [
    "%%time\n",
    "# relies on time ordering of df via rental_id\n",
    "bike_start = bike_groups[\"start_date\"].first()"
   ]
  },
  {
   "cell_type": "code",
   "execution_count": 33,
   "id": "61110d4b",
   "metadata": {},
   "outputs": [
    {
     "name": "stdout",
     "output_type": "stream",
     "text": [
      "CPU times: user 356 ms, sys: 161 ms, total: 517 ms\n",
      "Wall time: 519 ms\n"
     ]
    }
   ],
   "source": [
    "%%time\n",
    "# relies on time ordering of df via rental_id\n",
    "bike_end = bike_groups[\"end_date\"].last()"
   ]
  },
  {
   "cell_type": "code",
   "execution_count": 34,
   "id": "71417c90",
   "metadata": {},
   "outputs": [
    {
     "name": "stdout",
     "output_type": "stream",
     "text": [
      "CPU times: user 925 µs, sys: 657 µs, total: 1.58 ms\n",
      "Wall time: 1.04 ms\n"
     ]
    }
   ],
   "source": [
    "%%time \n",
    "bike_lifetime = bike_end - bike_start"
   ]
  },
  {
   "cell_type": "markdown",
   "id": "89502a93",
   "metadata": {},
   "source": [
    "how long is the lifetime of a bike? (in days)"
   ]
  },
  {
   "cell_type": "code",
   "execution_count": 35,
   "id": "46c68cbc",
   "metadata": {},
   "outputs": [
    {
     "data": {
      "text/plain": [
       "<AxesSubplot:>"
      ]
     },
     "execution_count": 35,
     "metadata": {},
     "output_type": "execute_result"
    },
    {
     "data": {
      "image/png": "[encoded data removed]",
      "text/plain": [
       "<Figure size 432x288 with 1 Axes>"
      ]
     },
     "metadata": {
      "needs_background": "light"
     },
     "output_type": "display_data"
    }
   ],
   "source": [
    "bike_lifetime.dt.days.hist(bins=50)"
   ]
  },
  {
   "cell_type": "code",
   "execution_count": 36,
   "id": "528a80fa",
   "metadata": {},
   "outputs": [
    {
     "name": "stdout",
     "output_type": "stream",
     "text": [
      "CPU times: user 699 ms, sys: 361 ms, total: 1.06 s\n",
      "Wall time: 969 ms\n"
     ]
    }
   ],
   "source": [
    "%%time\n",
    "duration_sums = bike_groups[\"duration\"].sum()"
   ]
  },
  {
   "cell_type": "code",
   "execution_count": 37,
   "id": "7a2fca9c",
   "metadata": {},
   "outputs": [
    {
     "name": "stdout",
     "output_type": "stream",
     "text": [
      "CPU times: user 325 µs, sys: 154 µs, total: 479 µs\n",
      "Wall time: 602 µs\n"
     ]
    }
   ],
   "source": [
    "%%time\n",
    "bike_utilisation = duration_sums / bike_lifetime"
   ]
  },
  {
   "cell_type": "markdown",
   "id": "85694fa1",
   "metadata": {},
   "source": [
    "what is the average utilisation of a bike? (total ride duration / lifetime)\n",
    "\n",
    "this is the mean of the per bike utilisation. I.e. each bike's usage divided by it's total lifetime."
   ]
  },
  {
   "cell_type": "code",
   "execution_count": 38,
   "id": "b1018d43",
   "metadata": {},
   "outputs": [
    {
     "data": {
      "text/plain": [
       "0.04074394088226827"
      ]
     },
     "execution_count": 38,
     "metadata": {},
     "output_type": "execute_result"
    }
   ],
   "source": [
    "bike_utilisation.mean()"
   ]
  },
  {
   "cell_type": "code",
   "execution_count": 39,
   "id": "174a11d1",
   "metadata": {},
   "outputs": [
    {
     "data": {
      "text/plain": [
       "<AxesSubplot:>"
      ]
     },
     "execution_count": 39,
     "metadata": {},
     "output_type": "execute_result"
    },
    {
     "data": {
      "image/png": "[encoded data removed]",
      "text/plain": [
       "<Figure size 432x288 with 1 Axes>"
      ]
     },
     "metadata": {
      "needs_background": "light"
     },
     "output_type": "display_data"
    }
   ],
   "source": [
    "bike_utilisation.hist(bins=100)"
   ]
  },
  {
   "cell_type": "markdown",
   "id": "883089cd",
   "metadata": {},
   "source": [
    "### per month\n",
    "\n",
    "- how many bikes are \"alive\" by month?\n",
    "\n",
    "- how many stations are \"alive\" by month?\n",
    "\n",
    "- what is bike utilisation by month? \n",
    "\n",
    "our utilisation measure here will be slightly different to previous figure. Previously we looked at per bike utilisation and averaged this. Now, we're looking at sum of use over the entire fleet and dividing this by the max possible usage per month (24/7 riding)."
   ]
  },
  {
   "cell_type": "code",
   "execution_count": 40,
   "id": "3f312303",
   "metadata": {},
   "outputs": [],
   "source": [
    "# don't want to incude first and last months as may be incompelte, use in filter later\n",
    "incomplete_months = df[\"start_date\"].iloc[[0, -1]].dt.to_period(\"M\")\n",
    "\n",
    "\n",
    "# create a complete monthly index that covers ALL months in period \n",
    "complete_monthly_index = pd.date_range(start=df[\"start_date\"].iloc[0], end=df[\"end_date\"].iloc[-1], freq=\"M\").to_period(\"M\")\n",
    "# remove incomplete months\n",
    "complete_monthly_index = complete_monthly_index.delete(complete_monthly_index.isin(incomplete_months))"
   ]
  },
  {
   "cell_type": "code",
   "execution_count": 41,
   "id": "b64c39c6",
   "metadata": {},
   "outputs": [],
   "source": [
    "# TODO should stations count as allive for next month rather than current?\n",
    "def calc_alive_per_month(starts: pd.Series, ends: pd.Series, incomplete_months: pd.Series, complete_monthly_index: pd.PeriodIndex):\n",
    "    starts_per_month = starts.dt.to_period(\"M\").value_counts()\n",
    "    ends_per_month = ends.dt.to_period(\"M\").value_counts()\n",
    "\n",
    "    counts_df = complete_monthly_index.to_frame(name=\"foo\").join(starts_per_month).join(ends_per_month).sort_index().fillna(0)\n",
    "    # ending items should only be counted at the start of next month, so shift\n",
    "    counts_df[\"end_date\"] = counts_df[\"end_date\"].shift(fill_value=0)\n",
    "\n",
    "    alive_per_month = counts_df[\"start_date\"].cumsum() - counts_df[\"end_date\"].cumsum()\n",
    "    \n",
    "    return alive_per_month[~alive_per_month.index.isin(incomplete_months)]"
   ]
  },
  {
   "cell_type": "code",
   "execution_count": 42,
   "id": "942a125d",
   "metadata": {},
   "outputs": [
    {
     "name": "stdout",
     "output_type": "stream",
     "text": [
      "CPU times: user 9.1 ms, sys: 2.37 ms, total: 11.5 ms\n",
      "Wall time: 13.4 ms\n"
     ]
    }
   ],
   "source": [
    "%%time\n",
    "\n",
    "alive_bikes_per_month = calc_alive_per_month(starts=bike_start, ends=bike_end, incomplete_months=incomplete_months, complete_monthly_index=complete_monthly_index)"
   ]
  },
  {
   "cell_type": "code",
   "execution_count": 43,
   "id": "7698c89e",
   "metadata": {},
   "outputs": [
    {
     "name": "stdout",
     "output_type": "stream",
     "text": [
      "CPU times: user 4.4 s, sys: 1.01 s, total: 5.41 s\n",
      "Wall time: 5.43 s\n"
     ]
    }
   ],
   "source": [
    "%%time\n",
    "duration_sums_per_month = df[[\"duration\"]].groupby(df[\"start_date\"].dt.to_period(\"M\"))[\"duration\"].sum()\n",
    "\n",
    "duration_sums_per_month = duration_sums_per_month.to_frame()\n",
    "duration_sums_per_month[\"max_possible_duration\"] = duration_sums_per_month.index.map(lambda x: x.end_time - x.start_time)\n",
    "\n",
    "utilisation_per_month = duration_sums_per_month[\"duration\"] / duration_sums_per_month[\"max_possible_duration\"] / alive_bikes_per_month\n",
    "\n",
    "# remove incomplelte months\n",
    "utilisation_per_month = utilisation_per_month[~utilisation_per_month.index.isin(incomplete_months)]"
   ]
  },
  {
   "cell_type": "code",
   "execution_count": 44,
   "id": "2cf5a5ab",
   "metadata": {},
   "outputs": [
    {
     "name": "stdout",
     "output_type": "stream",
     "text": [
      "CPU times: user 1.07 s, sys: 297 ms, total: 1.36 s\n",
      "Wall time: 1.37 s\n"
     ]
    }
   ],
   "source": [
    "%%time\n",
    "\n",
    "station_groups = df.groupby(\"start_station_id\")\n",
    "\n",
    "# relies on time ordering of df via rental_id\n",
    "station_start = station_groups[\"start_date\"].first()\n",
    "station_end = station_groups[\"end_date\"].last()"
   ]
  },
  {
   "cell_type": "code",
   "execution_count": 45,
   "id": "49fc0043",
   "metadata": {},
   "outputs": [],
   "source": [
    "alive_stations_per_month = calc_alive_per_month(starts=station_start, ends=station_end,\n",
    "                                                incomplete_months=incomplete_months, complete_monthly_index=complete_monthly_index)"
   ]
  },
  {
   "cell_type": "code",
   "execution_count": 46,
   "id": "bf226dbe",
   "metadata": {},
   "outputs": [],
   "source": [
    "# forward fill gaps\n",
    "stats_df = complete_monthly_index.to_frame(name=\"date\")\\\n",
    "    .join(alive_bikes_per_month.rename(\"alive_bikes\"))\\\n",
    "    .join(alive_stations_per_month.rename(\"alive_stations\"))\\\n",
    "    .join(utilisation_per_month.rename(\"utilisation\"))\\\n",
    "    .fillna(method=\"ffill\") "
   ]
  },
  {
   "cell_type": "code",
   "execution_count": 47,
   "id": "4c1ce1c1",
   "metadata": {},
   "outputs": [
    {
     "data": {
      "text/plain": [
       "array([<AxesSubplot:>, <AxesSubplot:>, <AxesSubplot:>], dtype=object)"
      ]
     },
     "execution_count": 47,
     "metadata": {},
     "output_type": "execute_result"
    },
    {
     "data": {
      "image/png": "[encoded data removed]",
      "text/plain": [
       "<Figure size 432x288 with 3 Axes>"
      ]
     },
     "metadata": {
      "needs_background": "light"
     },
     "output_type": "display_data"
    }
   ],
   "source": [
    "stats_df.plot(subplots=True)"
   ]
  },
  {
   "cell_type": "markdown",
   "id": "2a810359",
   "metadata": {},
   "source": [
    "Taking a look at utilisation without the first month throwing us off.\n",
    "\n",
    "Recall, this is over the fleet rather than a measure per bike."
   ]
  },
  {
   "cell_type": "code",
   "execution_count": 48,
   "id": "5f85a35a",
   "metadata": {},
   "outputs": [
    {
     "data": {
      "text/plain": [
       "<AxesSubplot:>"
      ]
     },
     "execution_count": 48,
     "metadata": {},
     "output_type": "execute_result"
    },
    {
     "data": {
      "image/png": "[encoded data removed]",
      "text/plain": [
       "<Figure size 432x288 with 1 Axes>"
      ]
     },
     "metadata": {
      "needs_background": "light"
     },
     "output_type": "display_data"
    }
   ],
   "source": [
    "stats_df[\"utilisation\"][1:].plot()"
   ]
  },
  {
   "cell_type": "markdown",
   "id": "d6446c04",
   "metadata": {},
   "source": [
    "whats happening to the number of active stations in 2012?"
   ]
  },
  {
   "cell_type": "code",
   "execution_count": 49,
   "id": "f23cb8f2",
   "metadata": {
    "jupyter": {
     "source_hidden": true
    }
   },
   "outputs": [
    {
     "data": {
      "text/plain": [
       "(2, 0)"
      ]
     },
     "execution_count": 49,
     "metadata": {},
     "output_type": "execute_result"
    }
   ],
   "source": [
    "stats_df_2012 = stats_df[(stats_df.index.to_timestamp() >= datetime.datetime(year=2012, month=1, day=1)) &\n",
    "        (stats_df.index.to_timestamp() < datetime.datetime(year=2013, month=1, day=1))]\n",
    "\n",
    "\n",
    "# increase in April and Decrease in Jul\n",
    "\n",
    "may_2012_new_stations = station_start[(station_start >= datetime.datetime(year=2012, month=5, day=1)) &\n",
    "             (station_start < datetime.datetime(year=2012, month=6, day=1))]\n",
    "\n",
    "# note these will actually be last used in prev month i.e. june\n",
    "jul_2012_removed_stations = station_end[(station_end >= datetime.datetime(year=2012, month=6, day=1)) &\n",
    "             (station_end < datetime.datetime(year=2012, month=7, day=1))]\n",
    "\n",
    "len(may_2012_new_stations), len(jul_2012_removed_stations)"
   ]
  },
  {
   "cell_type": "markdown",
   "id": "e1656c44",
   "metadata": {},
   "source": [
    "## Station Areas"
   ]
  },
  {
   "cell_type": "code",
   "execution_count": 50,
   "id": "24878da4",
   "metadata": {},
   "outputs": [
    {
     "name": "stdout",
     "output_type": "stream",
     "text": [
      "CPU times: user 44 s, sys: 15.7 s, total: 59.8 s\n",
      "Wall time: 1min 4s\n"
     ]
    }
   ],
   "source": [
    "%%time\n",
    "all_stations = pd.concat([\n",
    "    df[[\"start_station_id\", \"start_station_name\"]].rename(columns={\"start_station_id\": \"id\", \"start_station_name\": \"name\"}),\n",
    "    df[[\"end_station_id\", \"end_station_name\"]].rename(columns={\"end_station_id\": \"id\", \"end_station_name\": \"name\"})\n",
    "]).convert_dtypes().set_index(keys=\"id\").drop_duplicates().dropna()\n",
    "\n",
    "# filter to str names only\n",
    "all_stations = all_stations[all_stations[\"name\"].map(lambda x: isinstance(x, str))]"
   ]
  },
  {
   "cell_type": "markdown",
   "id": "9898b6c6",
   "metadata": {},
   "source": [
    "have a look at station name pieces, is the part after the comma an \"area\"?"
   ]
  },
  {
   "cell_type": "code",
   "execution_count": 51,
   "id": "3ddfdf9f",
   "metadata": {},
   "outputs": [
    {
     "data": {
      "application/vnd.jupyter.widget-view+json": {
       "model_id": "4c3c5e9460d14dc38827d645339cca97",
       "version_major": 2,
       "version_minor": 0
      },
      "text/plain": [
       "  0%|          | 0/824 [00:00<?, ?it/s]"
      ]
     },
     "metadata": {},
     "output_type": "display_data"
    },
    {
     "data": {
      "application/vnd.jupyter.widget-view+json": {
       "model_id": "a0930b3c52094637b9ef90c1ad35e525",
       "version_major": 2,
       "version_minor": 0
      },
      "text/plain": [
       "  0%|          | 0/824 [00:00<?, ?it/s]"
      ]
     },
     "metadata": {},
     "output_type": "display_data"
    },
    {
     "data": {
      "application/vnd.jupyter.widget-view+json": {
       "model_id": "9321cbf764884f5bab970bb991e2b4e4",
       "version_major": 2,
       "version_minor": 0
      },
      "text/plain": [
       "  0%|          | 0/824 [00:00<?, ?it/s]"
      ]
     },
     "metadata": {},
     "output_type": "display_data"
    }
   ],
   "source": [
    "station_name_pieces = all_stations[\"name\"].progress_map(lambda name: name.split(\",\"))\n",
    "\n",
    "station_single_pieces = station_name_pieces[station_name_pieces.progress_map(len) <= 1]\n",
    "station_areas =  station_name_pieces.progress_map(lambda name_pieces: name_pieces[1] if len(name_pieces) > 1 else None).dropna()"
   ]
  },
  {
   "cell_type": "markdown",
   "id": "577c51f9",
   "metadata": {},
   "source": [
    "what are the items with only one \"piece\" i.e. no comma"
   ]
  },
  {
   "cell_type": "code",
   "execution_count": 52,
   "id": "fae34827",
   "metadata": {},
   "outputs": [
    {
     "data": {
      "text/plain": [
       "id\n",
       "302    [Fore Street Avenue: Guildhall]\n",
       "174                           [Strand]\n",
       "271                       [London Zoo]\n",
       "137         [Bourne Street: Belgravia]\n",
       "198                        [tabletop1]\n",
       "Name: name, dtype: object"
      ]
     },
     "execution_count": 52,
     "metadata": {},
     "output_type": "execute_result"
    }
   ],
   "source": [
    "station_single_pieces.head()"
   ]
  },
  {
   "cell_type": "code",
   "execution_count": 53,
   "id": "e19041cb",
   "metadata": {},
   "outputs": [
    {
     "data": {
      "text/plain": [
       " Marylebone          27\n",
       " Holborn             19\n",
       " Battersea           19\n",
       " Mayfair             18\n",
       " Westminster         15\n",
       "                     ..\n",
       " De Beauvoir Town     1\n",
       "Hoxton                1\n",
       " Bangla Town          1\n",
       " St Lukes             1\n",
       "NA                    1\n",
       "Name: name, Length: 127, dtype: int64"
      ]
     },
     "execution_count": 53,
     "metadata": {},
     "output_type": "execute_result"
    }
   ],
   "source": [
    "station_areas.value_counts()"
   ]
  },
  {
   "cell_type": "markdown",
   "id": "fba41d9d",
   "metadata": {},
   "source": [
    "# chains\n",
    "\n",
    "A \"chain\" is a sequence of trips for a given bike, where the start location matches the previous end location.\n",
    "\n",
    "Run for some subset only. Try long lived bikes"
   ]
  },
  {
   "cell_type": "code",
   "execution_count": 54,
   "id": "24fa8f18",
   "metadata": {},
   "outputs": [],
   "source": [
    "top_ten_lived_bike_ids = bike_lifetime.sort_values()[-10:].index.values"
   ]
  },
  {
   "cell_type": "code",
   "execution_count": 55,
   "id": "f9f70a5b",
   "metadata": {},
   "outputs": [],
   "source": [
    "top_ten_bike_subset = df[df[\"bike_id\"].isin(top_ten_lived_bike_ids)].copy()"
   ]
  },
  {
   "cell_type": "code",
   "execution_count": 56,
   "id": "a1ac8a6b",
   "metadata": {},
   "outputs": [],
   "source": [
    "# NOTE - how to handle workshops?\n",
    "# what if workshop is start ?\n",
    "# what if workshop is end ?\n",
    "def add_chains(bike_id: int, bike_group: pd.DataFrame, df: pd.DataFrame) -> None:\n",
    "    \"\"\" note: adds to dataframe as side effect \"\"\"\n",
    "\n",
    "    # note fillna for end station to allow for comparison to NA\n",
    "    breaks = bike_group[bike_group[\"start_station_id\"] != bike_group.shift()[\"end_station_id\"].fillna(-1)]\n",
    "    break_indices = breaks.index.values\n",
    "\n",
    "    chains = list()\n",
    "    for i, (start, end) in enumerate(zip([None, *break_indices], [*break_indices, None])):\n",
    "        chain = bike_group.loc[start:end]\n",
    "        chain_id = f\"{bike_id}_{i}\"\n",
    "        chains.append(pd.Series(chain_id, index=chain.index))\n",
    "    return pd.concat(chains)"
   ]
  },
  {
   "cell_type": "code",
   "execution_count": 57,
   "id": "0a54714d",
   "metadata": {},
   "outputs": [
    {
     "data": {
      "application/vnd.jupyter.widget-view+json": {
       "model_id": "b374309d6b444ff1ada0b7707b6e3c34",
       "version_major": 2,
       "version_minor": 0
      },
      "text/plain": [
       "  0%|          | 0/10 [00:00<?, ?it/s]"
      ]
     },
     "metadata": {},
     "output_type": "display_data"
    }
   ],
   "source": [
    "chains = list()\n",
    "for k, g in tqdm(top_ten_bike_subset.groupby(\"bike_id\")):\n",
    "    g = bike_groups.get_group(k)\n",
    "    chains.append(add_chains(bike_id=k, bike_group=g, df=df))"
   ]
  },
  {
   "cell_type": "code",
   "execution_count": 58,
   "id": "303cf529",
   "metadata": {},
   "outputs": [],
   "source": [
    "top_ten_bike_subset = top_ten_bike_subset.join(pd.concat(chains).rename(\"chain_id\"))"
   ]
  },
  {
   "cell_type": "code",
   "execution_count": 59,
   "id": "4ff9a0ee",
   "metadata": {},
   "outputs": [],
   "source": [
    "top_ten_bike_subset.to_pickle(\"top_ten_bikes.pickle\")"
   ]
  },
  {
   "cell_type": "markdown",
   "id": "7a07635d",
   "metadata": {},
   "source": [
    "# A day on the life of a bike\n"
   ]
  },
  {
   "cell_type": "code",
   "execution_count": 63,
   "id": "dc715e67",
   "metadata": {},
   "outputs": [],
   "source": [
    "\n",
    "def remove_missing_stations(df, stations):\n",
    "    df[\"check_stations_ids\"] = df.apply(\n",
    "        lambda row: check_id(row, stations), axis=1\n",
    "    )\n",
    "    df = df[df.check_stations_ids.eq(True)]\n",
    "    return df\n"
   ]
  },
  {
   "cell_type": "code",
   "execution_count": 66,
   "id": "4f92ae5d",
   "metadata": {},
   "outputs": [
    {
     "ename": "ModuleNotFoundError",
     "evalue": "No module named 'movingpandas'",
     "output_type": "error",
     "traceback": [
      "\u001b[0;31m---------------------------------------------------------------------------\u001b[0m",
      "\u001b[0;31mModuleNotFoundError\u001b[0m                       Traceback (most recent call last)",
      "Input \u001b[0;32mIn [66]\u001b[0m, in \u001b[0;36m<cell line: 4>\u001b[0;34m()\u001b[0m\n\u001b[1;32m      1\u001b[0m \u001b[38;5;28;01mimport\u001b[39;00m \u001b[38;5;21;01mfolium\u001b[39;00m\n\u001b[1;32m      3\u001b[0m \u001b[38;5;28;01mfrom\u001b[39;00m \u001b[38;5;21;01mtrip\u001b[39;00m \u001b[38;5;28;01mimport\u001b[39;00m Trip\n\u001b[0;32m----> 4\u001b[0m \u001b[38;5;28;01mfrom\u001b[39;00m \u001b[38;5;21;01mutils\u001b[39;00m \u001b[38;5;28;01mimport\u001b[39;00m get_colours\n\u001b[1;32m      7\u001b[0m \u001b[38;5;28;01mclass\u001b[39;00m \u001b[38;5;21;01mBike\u001b[39;00m:\n\u001b[1;32m      8\u001b[0m     \u001b[38;5;28;01mdef\u001b[39;00m \u001b[38;5;21m__init__\u001b[39m(\u001b[38;5;28mself\u001b[39m, \u001b[38;5;28mid\u001b[39m):\n",
      "File \u001b[0;32m~/Projects/pfeffel/src/utils.py:6\u001b[0m, in \u001b[0;36m<module>\u001b[0;34m\u001b[0m\n\u001b[1;32m      3\u001b[0m \u001b[38;5;28;01mfrom\u001b[39;00m \u001b[38;5;21;01mdatetime\u001b[39;00m \u001b[38;5;28;01mimport\u001b[39;00m datetime, timedelta\n\u001b[1;32m      5\u001b[0m \u001b[38;5;28;01mimport\u001b[39;00m \u001b[38;5;21;01mfolium\u001b[39;00m\n\u001b[0;32m----> 6\u001b[0m \u001b[38;5;28;01mimport\u001b[39;00m \u001b[38;5;21;01mmovingpandas\u001b[39;00m \u001b[38;5;28;01mas\u001b[39;00m \u001b[38;5;21;01mmpd\u001b[39;00m\n\u001b[1;32m      7\u001b[0m \u001b[38;5;28;01mimport\u001b[39;00m \u001b[38;5;21;01mpandas\u001b[39;00m \u001b[38;5;28;01mas\u001b[39;00m \u001b[38;5;21;01mpd\u001b[39;00m\n\u001b[1;32m      8\u001b[0m \u001b[38;5;28;01mimport\u001b[39;00m \u001b[38;5;21;01mseaborn\u001b[39;00m \u001b[38;5;28;01mas\u001b[39;00m \u001b[38;5;21;01msns\u001b[39;00m\n",
      "\u001b[0;31mModuleNotFoundError\u001b[0m: No module named 'movingpandas'"
     ]
    }
   ],
   "source": [
    "import folium\n",
    "\n",
    "from trip import Trip\n",
    "from utils import get_colours\n",
    "\n",
    "\n",
    "class Bike:\n",
    "    def __init__(self, id):\n",
    "        self.id = id\n",
    "\n",
    "    def get_trips(self, df, stations):\n",
    "\n",
    "        routes = [Trip(df, self.id, trip_id, stations) for trip_id in df.index]\n",
    "        return routes\n",
    "\n",
    "    def get_chains(self, stations):\n",
    "        chain_ids = self.bike_rides.chain_id.to_list()\n",
    "        chains = {}\n",
    "        for chain_id in chain_ids:\n",
    "            chain_rides = self.bike_rides[\n",
    "                self.bike_rides[\"chain_id\"] == chain_id\n",
    "            ]\n",
    "            chains[chain_id] = self.get_trips(chain_rides, stations)\n",
    "        self.chains = chains\n",
    "\n",
    "    def get_story(self, dataset, stations):\n",
    "        bike_rides = dataset[dataset[\"bike_id\"] == self.id]\n",
    "        self.bike_rides = bike_rides\n",
    "        self.get_chains(stations)\n",
    "\n",
    "    def get_usage(self):\n",
    "        usage = self.bike_rides[\"duration\"].sum()\n",
    "        return usage\n",
    "\n",
    "    def visualize_routes(self, key):\n",
    "\n",
    "        # Create base map\n",
    "        London = [51.506949, -0.122876]\n",
    "        for chain_id, chain in self.chains.items():\n",
    "            map = folium.Map(\n",
    "                location=London, zoom_start=12, tiles=\"cartodbpositron\"\n",
    "            )\n",
    "            colours = get_colours(len(chain))\n",
    "\n",
    "            for counter, trip in enumerate(chain):\n",
    "                trip.get_route(key)\n",
    "                if trip.route == {}:\n",
    "                    continue\n",
    "\n",
    "                trip.folium_route(key, colours[counter]).add_to(map)\n",
    "\n",
    "            f = \"output/\" + str(self.id) + \"_\" + str(chain_id) + \".html\"\n",
    "            map.save(f)\n"
   ]
  },
  {
   "cell_type": "code",
   "execution_count": 69,
   "id": "0c1f672f",
   "metadata": {},
   "outputs": [
    {
     "ename": "NameError",
     "evalue": "name 'check_id' is not defined",
     "output_type": "error",
     "traceback": [
      "\u001b[0;31m---------------------------------------------------------------------------\u001b[0m",
      "\u001b[0;31mNameError\u001b[0m                                 Traceback (most recent call last)",
      "Input \u001b[0;32mIn [69]\u001b[0m, in \u001b[0;36m<cell line: 10>\u001b[0;34m()\u001b[0m\n\u001b[1;32m      7\u001b[0m \u001b[38;5;66;03m#key = open(\"data/cycle_street_key.txt\", \"r\").read()\u001b[39;00m\n\u001b[1;32m      9\u001b[0m data \u001b[38;5;241m=\u001b[39m top_ten_bike_subset\n\u001b[0;32m---> 10\u001b[0m data \u001b[38;5;241m=\u001b[39m \u001b[43mremove_missing_stations\u001b[49m\u001b[43m(\u001b[49m\u001b[43mdata\u001b[49m\u001b[43m,\u001b[49m\u001b[43mstations\u001b[49m\u001b[43m)\u001b[49m\n",
      "Input \u001b[0;32mIn [63]\u001b[0m, in \u001b[0;36mremove_missing_stations\u001b[0;34m(df, stations)\u001b[0m\n\u001b[1;32m      1\u001b[0m \u001b[38;5;28;01mdef\u001b[39;00m \u001b[38;5;21mremove_missing_stations\u001b[39m(df, stations):\n\u001b[0;32m----> 2\u001b[0m     df[\u001b[38;5;124m\"\u001b[39m\u001b[38;5;124mcheck_stations_ids\u001b[39m\u001b[38;5;124m\"\u001b[39m] \u001b[38;5;241m=\u001b[39m \u001b[43mdf\u001b[49m\u001b[38;5;241;43m.\u001b[39;49m\u001b[43mapply\u001b[49m\u001b[43m(\u001b[49m\n\u001b[1;32m      3\u001b[0m \u001b[43m        \u001b[49m\u001b[38;5;28;43;01mlambda\u001b[39;49;00m\u001b[43m \u001b[49m\u001b[43mrow\u001b[49m\u001b[43m:\u001b[49m\u001b[43m \u001b[49m\u001b[43mcheck_id\u001b[49m\u001b[43m(\u001b[49m\u001b[43mrow\u001b[49m\u001b[43m,\u001b[49m\u001b[43m \u001b[49m\u001b[43mstations\u001b[49m\u001b[43m)\u001b[49m\u001b[43m,\u001b[49m\u001b[43m \u001b[49m\u001b[43maxis\u001b[49m\u001b[38;5;241;43m=\u001b[39;49m\u001b[38;5;241;43m1\u001b[39;49m\n\u001b[1;32m      4\u001b[0m \u001b[43m    \u001b[49m\u001b[43m)\u001b[49m\n\u001b[1;32m      5\u001b[0m     df \u001b[38;5;241m=\u001b[39m df[df\u001b[38;5;241m.\u001b[39mcheck_stations_ids\u001b[38;5;241m.\u001b[39meq(\u001b[38;5;28;01mTrue\u001b[39;00m)]\n\u001b[1;32m      6\u001b[0m     \u001b[38;5;28;01mreturn\u001b[39;00m df\n",
      "File \u001b[0;32m~/Library/Caches/pypoetry/virtualenvs/pfeffel-e-VUL9up-py3.9/lib/python3.9/site-packages/pandas/core/frame.py:8839\u001b[0m, in \u001b[0;36mDataFrame.apply\u001b[0;34m(self, func, axis, raw, result_type, args, **kwargs)\u001b[0m\n\u001b[1;32m   8828\u001b[0m \u001b[38;5;28;01mfrom\u001b[39;00m \u001b[38;5;21;01mpandas\u001b[39;00m\u001b[38;5;21;01m.\u001b[39;00m\u001b[38;5;21;01mcore\u001b[39;00m\u001b[38;5;21;01m.\u001b[39;00m\u001b[38;5;21;01mapply\u001b[39;00m \u001b[38;5;28;01mimport\u001b[39;00m frame_apply\n\u001b[1;32m   8830\u001b[0m op \u001b[38;5;241m=\u001b[39m frame_apply(\n\u001b[1;32m   8831\u001b[0m     \u001b[38;5;28mself\u001b[39m,\n\u001b[1;32m   8832\u001b[0m     func\u001b[38;5;241m=\u001b[39mfunc,\n\u001b[0;32m   (...)\u001b[0m\n\u001b[1;32m   8837\u001b[0m     kwargs\u001b[38;5;241m=\u001b[39mkwargs,\n\u001b[1;32m   8838\u001b[0m )\n\u001b[0;32m-> 8839\u001b[0m \u001b[38;5;28;01mreturn\u001b[39;00m \u001b[43mop\u001b[49m\u001b[38;5;241;43m.\u001b[39;49m\u001b[43mapply\u001b[49m\u001b[43m(\u001b[49m\u001b[43m)\u001b[49m\u001b[38;5;241m.\u001b[39m__finalize__(\u001b[38;5;28mself\u001b[39m, method\u001b[38;5;241m=\u001b[39m\u001b[38;5;124m\"\u001b[39m\u001b[38;5;124mapply\u001b[39m\u001b[38;5;124m\"\u001b[39m)\n",
      "File \u001b[0;32m~/Library/Caches/pypoetry/virtualenvs/pfeffel-e-VUL9up-py3.9/lib/python3.9/site-packages/pandas/core/apply.py:727\u001b[0m, in \u001b[0;36mFrameApply.apply\u001b[0;34m(self)\u001b[0m\n\u001b[1;32m    724\u001b[0m \u001b[38;5;28;01melif\u001b[39;00m \u001b[38;5;28mself\u001b[39m\u001b[38;5;241m.\u001b[39mraw:\n\u001b[1;32m    725\u001b[0m     \u001b[38;5;28;01mreturn\u001b[39;00m \u001b[38;5;28mself\u001b[39m\u001b[38;5;241m.\u001b[39mapply_raw()\n\u001b[0;32m--> 727\u001b[0m \u001b[38;5;28;01mreturn\u001b[39;00m \u001b[38;5;28;43mself\u001b[39;49m\u001b[38;5;241;43m.\u001b[39;49m\u001b[43mapply_standard\u001b[49m\u001b[43m(\u001b[49m\u001b[43m)\u001b[49m\n",
      "File \u001b[0;32m~/Library/Caches/pypoetry/virtualenvs/pfeffel-e-VUL9up-py3.9/lib/python3.9/site-packages/pandas/core/apply.py:851\u001b[0m, in \u001b[0;36mFrameApply.apply_standard\u001b[0;34m(self)\u001b[0m\n\u001b[1;32m    850\u001b[0m \u001b[38;5;28;01mdef\u001b[39;00m \u001b[38;5;21mapply_standard\u001b[39m(\u001b[38;5;28mself\u001b[39m):\n\u001b[0;32m--> 851\u001b[0m     results, res_index \u001b[38;5;241m=\u001b[39m \u001b[38;5;28;43mself\u001b[39;49m\u001b[38;5;241;43m.\u001b[39;49m\u001b[43mapply_series_generator\u001b[49m\u001b[43m(\u001b[49m\u001b[43m)\u001b[49m\n\u001b[1;32m    853\u001b[0m     \u001b[38;5;66;03m# wrap results\u001b[39;00m\n\u001b[1;32m    854\u001b[0m     \u001b[38;5;28;01mreturn\u001b[39;00m \u001b[38;5;28mself\u001b[39m\u001b[38;5;241m.\u001b[39mwrap_results(results, res_index)\n",
      "File \u001b[0;32m~/Library/Caches/pypoetry/virtualenvs/pfeffel-e-VUL9up-py3.9/lib/python3.9/site-packages/pandas/core/apply.py:867\u001b[0m, in \u001b[0;36mFrameApply.apply_series_generator\u001b[0;34m(self)\u001b[0m\n\u001b[1;32m    864\u001b[0m \u001b[38;5;28;01mwith\u001b[39;00m option_context(\u001b[38;5;124m\"\u001b[39m\u001b[38;5;124mmode.chained_assignment\u001b[39m\u001b[38;5;124m\"\u001b[39m, \u001b[38;5;28;01mNone\u001b[39;00m):\n\u001b[1;32m    865\u001b[0m     \u001b[38;5;28;01mfor\u001b[39;00m i, v \u001b[38;5;129;01min\u001b[39;00m \u001b[38;5;28menumerate\u001b[39m(series_gen):\n\u001b[1;32m    866\u001b[0m         \u001b[38;5;66;03m# ignore SettingWithCopy here in case the user mutates\u001b[39;00m\n\u001b[0;32m--> 867\u001b[0m         results[i] \u001b[38;5;241m=\u001b[39m \u001b[38;5;28;43mself\u001b[39;49m\u001b[38;5;241;43m.\u001b[39;49m\u001b[43mf\u001b[49m\u001b[43m(\u001b[49m\u001b[43mv\u001b[49m\u001b[43m)\u001b[49m\n\u001b[1;32m    868\u001b[0m         \u001b[38;5;28;01mif\u001b[39;00m \u001b[38;5;28misinstance\u001b[39m(results[i], ABCSeries):\n\u001b[1;32m    869\u001b[0m             \u001b[38;5;66;03m# If we have a view on v, we need to make a copy because\u001b[39;00m\n\u001b[1;32m    870\u001b[0m             \u001b[38;5;66;03m#  series_generator will swap out the underlying data\u001b[39;00m\n\u001b[1;32m    871\u001b[0m             results[i] \u001b[38;5;241m=\u001b[39m results[i]\u001b[38;5;241m.\u001b[39mcopy(deep\u001b[38;5;241m=\u001b[39m\u001b[38;5;28;01mFalse\u001b[39;00m)\n",
      "Input \u001b[0;32mIn [63]\u001b[0m, in \u001b[0;36mremove_missing_stations.<locals>.<lambda>\u001b[0;34m(row)\u001b[0m\n\u001b[1;32m      1\u001b[0m \u001b[38;5;28;01mdef\u001b[39;00m \u001b[38;5;21mremove_missing_stations\u001b[39m(df, stations):\n\u001b[1;32m      2\u001b[0m     df[\u001b[38;5;124m\"\u001b[39m\u001b[38;5;124mcheck_stations_ids\u001b[39m\u001b[38;5;124m\"\u001b[39m] \u001b[38;5;241m=\u001b[39m df\u001b[38;5;241m.\u001b[39mapply(\n\u001b[0;32m----> 3\u001b[0m         \u001b[38;5;28;01mlambda\u001b[39;00m row: \u001b[43mcheck_id\u001b[49m(row, stations), axis\u001b[38;5;241m=\u001b[39m\u001b[38;5;241m1\u001b[39m\n\u001b[1;32m      4\u001b[0m     )\n\u001b[1;32m      5\u001b[0m     df \u001b[38;5;241m=\u001b[39m df[df\u001b[38;5;241m.\u001b[39mcheck_stations_ids\u001b[38;5;241m.\u001b[39meq(\u001b[38;5;28;01mTrue\u001b[39;00m)]\n\u001b[1;32m      6\u001b[0m     \u001b[38;5;28;01mreturn\u001b[39;00m df\n",
      "\u001b[0;31mNameError\u001b[0m: name 'check_id' is not defined"
     ]
    }
   ],
   "source": [
    "%matplotlib inline\n",
    "import json\n",
    "import pandas as pd\n",
    "\n",
    "stations = station_locations_df\n",
    "\n",
    "#key = open(\"data/cycle_street_key.txt\", \"r\").read()\n",
    "\n",
    "data = top_ten_bike_subset\n",
    "data = remove_missing_stations(data,stations)\n"
   ]
  },
  {
   "cell_type": "markdown",
   "id": "65b0be04",
   "metadata": {},
   "source": [
    "# A day of the life of Boris bikes"
   ]
  },
  {
   "cell_type": "markdown",
   "id": "87c46d66",
   "metadata": {},
   "source": [
    "# Bike mobility patterns"
   ]
  },
  {
   "cell_type": "code",
   "execution_count": null,
   "id": "9c0803b6",
   "metadata": {},
   "outputs": [],
   "source": []
  }
 ],
 "metadata": {
  "kernelspec": {
   "display_name": "Python 3 (ipykernel)",
   "language": "python",
   "name": "python3"
  },
  "language_info": {
   "codemirror_mode": {
    "name": "ipython",
    "version": 3
   },
   "file_extension": ".py",
   "mimetype": "text/x-python",
   "name": "python",
   "nbconvert_exporter": "python",
   "pygments_lexer": "ipython3",
   "version": "3.9.12"
  }
 },
 "nbformat": 4,
 "nbformat_minor": 5
}
